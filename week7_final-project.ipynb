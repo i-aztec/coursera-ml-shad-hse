{
 "cells": [
  {
   "cell_type": "code",
   "execution_count": null,
   "metadata": {
    "collapsed": true
   },
   "outputs": [],
   "source": []
  },
  {
   "cell_type": "code",
   "execution_count": null,
   "metadata": {
    "collapsed": true
   },
   "outputs": [],
   "source": []
  },
  {
   "cell_type": "markdown",
   "metadata": {},
   "source": [
    "# [Проект: предсказания победителя в онлайн-игре](https://www.coursera.org/learn/vvedenie-mashinnoe-obuchenie/peer/J1SH8/proiekt-priedskazaniia-pobieditielia-v-onlain-ighrie)\n",
    "\n",
    "\n",
    "[Dota 2](https://en.wikipedia.org/wiki/Dota_2) — многопользовательская компьютерная игра жанра [MOBA](https://en.wikipedia.org/wiki/Multiplayer_online_battle_arena). Игроки играют между собой матчи. В каждом матче, как правило, участвует 10 человек. Матчи формируются из живой очереди, с учётом уровня игры всех игроков. Перед началом игры игроки автоматически разделяются на две команды по пять человек. Одна команда играет за светлую сторону (The Radiant), другая — за тёмную (The Dire). Цель каждой команды — уничтожить главное здание базы противника, трон.\n",
    "\n",
    "Вам нужно построить модель, которая по данным о первых пяти минутах матча будет предсказывать его исход — то есть определять команду-победителя.\n",
    "\n",
    "Чтобы выполнить это задание, вам необходимо провести ряд исследований, сравнить несколько алгоритмов машинного обучения и проверить эффект от ряда манипуляций с признаками. Также, если вам понравится работать с этими данными, вы можете принять участие в [соревновании на Kaggle](https://kaggle.com/join/coursera_ml_dota2_contest) и сравнить свои навыки с другими участниками курса!\n",
    "\n",
    "К заданию приложены следующие файлы:\n",
    "\n",
    "* final-statement.ipynb и final-statement.html — постановка задачи, описание данных, инструкции по выполнению\n",
    "* features.zip — архив с обучающей выборкой\n",
    "* features_test.zip — архив с тестовой выборкой\n",
    "* data.zip — полный архив с сырыми данными и скриптом для извлечения признаков (этот архив понадобится вам только для участия в kaggle; для выполнения данного задания он не нужен)\n",
    "\n",
    "[final-statement.html](https://d3c33hcgiwev3.cloudfront.net/_e60a53b55ae721da5831786533147c27_final-statement.html?Expires=1457481600&Signature=f0tU2fG3UTmqzjrxs-dz40r31S~0jMwUW9wR2RiDVFy9VV9FIePdw~NrT2oObVuYVr7p1iQxsKrlwroNXqa0nYAGMp2fa~NwBGdqEisnbpCbHU8rBBlLKsaaOzSzdOyKwacp4y465qR-TIsDGnN1GtcmrrwduHObeOdGs7s5NJc_&Key-Pair-Id=APKAJLTNE6QMUY6HBC5A)\n",
    "\n",
    "[final-statement.ipynb](https://d3c33hcgiwev3.cloudfront.net/_e60a53b55ae721da5831786533147c27_final-statement.ipynb?Expires=1457481600&Signature=XfE89gtPaIx0gn5tFt9pJ5ymG361DOWmBmwrJG2vqU6Gn66BPuz9AL2L7bHU1t9ZF51q43QbAyCet5NSmzS6rDdL5brdHpQ5fAQ7fbeLO2CT2SMXejGnqg4azte11LEiX4~XnSoHTAK8yGDfaMILFuPk-rDOC~13bBqCY8EuivE_&Key-Pair-Id=APKAJLTNE6QMUY6HBC5A)\n",
    "\n",
    "[features.zip](https://d3c33hcgiwev3.cloudfront.net/_47ea8666d262362a0b41164cb497658e_features.zip?Expires=1457481600&Signature=KwYUSQlGPM4obwR3UlplFXMk16Ssy5TwyS9bcbDlTv2dQQ6Xv2GuU50YZeoLLYb2c0dKxI1dlyfsNtfT4uFAXxov-s0CYBCwp1YlNDPw4tjkhZV0GDGWtXuYgDlsEdyB-tYV~vZcZ4xG2rtEcF6~DgAuOwzgkDJ9Q6ZLUbop5Mk_&Key-Pair-Id=APKAJLTNE6QMUY6HBC5A)\n",
    "\n",
    "[features_test.zip](https://d3c33hcgiwev3.cloudfront.net/_6866d458468373e164b1e859f3103826_features_test.zip?Expires=1457481600&Signature=J1gWAykqyOms-b3LshhbkAhLdJZ0on412Wq5Uepa7Arhmfu9PRJwviQz~eL0sgTX2EnJz3Y4By4nQk2BES2EOwj7e3iZrDuY0LkAw~czv~JRFgT0bNcZbLeA~ZIMRmUzHVV48S1VHKdBQna~w830uOVDi8Y3lMcwCZrib~kIHho_&Key-Pair-Id=APKAJLTNE6QMUY6HBC5A)\n",
    "\n",
    "[data.zip](https://d3c33hcgiwev3.cloudfront.net/_0af1b642c31910510072aee30c1db762_data.zip?Expires=1457481600&Signature=cKd63HB1rvoLQODgNrevDYtRWOGS4gRcGg91RwFejOX3JFgpCqteL9SI6KxIm6EY69-DZkRD08~yiF7q7c1hh9muH6dVmVlnZT3wqjvhh7cUOwJ2gCMgTGjwgjqdp2gsq3ewnW7zanaJVnOqsGzNiY~2C5oxIX258XmVhf6wzaE_&Key-Pair-Id=APKAJLTNE6QMUY6HBC5A)\n",
    "\n",
    "Будет удобно выполнять это задание в IPython/Jupyter Notebook — интерактивной среде, которая устанавливается, например, вместе с пакетом Anaconda. При этом мы не настаиваем на его использовании, и в качестве файла с кодом можно отправлять обычный py-файл, подготовленный в вашей любимой среде.\n",
    "\n",
    "В сданном файле для каждого пункта задания должен быть код, с помощью которого получен ответ. Постарайтесь обозначить части кода, отвечающие на разные вопросы задания — так будет проще проверять вашу работу.\n",
    "\n",
    "### Review criteria\n",
    "\n",
    "Вам необходимо провести описанные в документе final-statement.html (или final-statement.ipynb) два этапа исследования (для двух подходов к решению задачи), написать по результатам каждого этапа небольшой отчет (ниже указаны вопросы, ответы на которые должны содержаться в отчете), и предоставить для ревью данный отчет и код, с помощью которого вы выполнили задание.\n",
    "\n",
    "Не забывайте, что в выборке есть признаки, которые \"заглядывают в будущее\" — они помечены в описании данных как отсутствующие в тестовой выборке. Их прямое использование в модели приведет к переобучению, поэтому не забудьте исключить их из выборки.\n",
    "\n",
    "**<u>Подход 1: градиентный бустинг \"в лоб\"</u>**\n",
    "\n",
    "Один из самых универсальных алгоритмов, изученных в нашем курсе, является градиентный бустинг. Он не очень требователен к данным, восстанавливает нелинейные зависимости, и хорошо работает на многих наборах данных, что и обуславливает его популярность. В данном разделе предлагается попробовать градиентный бустинг для решения нашей задачи.\n",
    "\n",
    "В отчете по данному этапу должны содержаться ответы на следующие вопросы:\n",
    "\n",
    "1.  Какие признаки имеют пропуски среди своих значений (приведите полный список имен этих признаков)? Что могут означать пропуски в этих признаках (ответьте на этот вопрос для двух любых признаков)?\n",
    "2.  Как называется столбец, содержащий целевую переменную?\n",
    "3.  Как долго проводилась кросс-валидация для градиентного бустинга с 30 деревьями? Инструкцию по измерению времени можно найти выше по тексту. Какое качество при этом получилось?\n",
    "4.  Имеет ли смысл использовать больше 30 деревьев в градиентном бустинге? Что можно сделать, чтобы ускорить его обучение при увеличении количества деревьев?\n",
    "\n",
    "**<u>Подход 2: логистическая регрессия</u>**[](http://localhost:8888/notebooks/Dropbox/teaching/ml-coursera/final-assignment/ContestDescription.ipynb#Подход-2:-логистическая-регрессия)\n",
    "\n",
    "Линейные методы работают гораздо быстрее композиций деревьев, поэтому кажется разумным воспользоваться именно ими для ускорение анализа данных. Одним из наиболее распространенных методов для классификации является логистическая регрессия. В данном разделе предлгается применить ее к данным, а также попробовать различные манипуляции с признаками.\n",
    "\n",
    "В отчете по данному этапу должны содержаться ответы на следующие вопросы:\n",
    "\n",
    "1.  Какое качество получилось у логистической регрессии над всеми исходными признаками? Как оно соотносится с качеством градиентного бустинга? Чем можно объяснить эту разницу? Быстрее ли работает логистическая регрессия по сравнению с градиентным бустингом?\n",
    "2.  Как влияет на качество логистической регрессии удаление категориальных признаков (укажите новое значение метрики качества)? Чем можно объяснить это изменение?\n",
    "3.  Сколько различных идентификаторов героев существует в данной игре?\n",
    "4.  Какое получилось качество при добавлении \"мешка слов\" по героям? Улучшилось ли оно по сравнению с предыдущим вариантом? Чем можно это объяснить?\n",
    "5.  Какое минимальное и максимальное значение прогноза на тестовой выборке получилось у лучшего из алгоритмов?\n",
    "\n",
    "Следует понимать, что конкретные показатели метрик качества могут отличаться в зависимости от конкретных разбиений выборки, значений параметров и версий библиотек. Ответы следует проверять на адекватность — в правильную ли сторону изменяется показатель качества при том или ином изменении модели или выборки, корректные ли выводы делаются из соответствующих результатов."
   ]
  },
  {
   "cell_type": "code",
   "execution_count": null,
   "metadata": {
    "collapsed": true
   },
   "outputs": [],
   "source": []
  },
  {
   "cell_type": "code",
   "execution_count": 4,
   "metadata": {
    "collapsed": false
   },
   "outputs": [
    {
     "name": "stdout",
     "output_type": "stream",
     "text": [
      "Populating the interactive namespace from numpy and matplotlib\n"
     ]
    },
    {
     "name": "stderr",
     "output_type": "stream",
     "text": [
      "WARNING: pylab import has clobbered these variables: ['linalg', 'random', 'power', 'info', 'draw_if_interactive', 'fft']\n",
      "`%matplotlib` prevents importing * from pylab and numpy\n"
     ]
    }
   ],
   "source": [
    "from pylab import *\n",
    "%pylab inline"
   ]
  },
  {
   "cell_type": "code",
   "execution_count": 5,
   "metadata": {
    "collapsed": true
   },
   "outputs": [],
   "source": [
    "import pandas as pd"
   ]
  },
  {
   "cell_type": "code",
   "execution_count": 9,
   "metadata": {
    "collapsed": false
   },
   "outputs": [],
   "source": [
    "import sklearn\n",
    "from sklearn import *"
   ]
  },
  {
   "cell_type": "code",
   "execution_count": 7,
   "metadata": {
    "collapsed": true
   },
   "outputs": [],
   "source": [
    "import zipfile"
   ]
  },
  {
   "cell_type": "code",
   "execution_count": 8,
   "metadata": {
    "collapsed": false
   },
   "outputs": [],
   "source": [
    "import time"
   ]
  },
  {
   "cell_type": "code",
   "execution_count": null,
   "metadata": {
    "collapsed": true
   },
   "outputs": [],
   "source": []
  },
  {
   "cell_type": "code",
   "execution_count": null,
   "metadata": {
    "collapsed": true
   },
   "outputs": [],
   "source": []
  },
  {
   "cell_type": "markdown",
   "metadata": {},
   "source": [
    "### **<u>Подход 1: градиентный бустинг \"в лоб\"</u>**\n",
    "\n",
    "Один из самых универсальных алгоритмов, изученных в нашем курсе, является градиентный бустинг. Он не очень требователен к данным, восстанавливает нелинейные зависимости, и хорошо работает на многих наборах данных, что и обуславливает его популярность. В данном разделе предлагается попробовать градиентный бустинг для решения нашей задачи."
   ]
  },
  {
   "cell_type": "markdown",
   "metadata": {},
   "source": [
    "** 1.Считайте таблицу с признаками из файла `features.csv` с помощью кода, приведенного выше. Удалите признаки, связанные с итогами матча (они помечены в описании данных как отсутствующие в тестовой выборке). **"
   ]
  },
  {
   "cell_type": "code",
   "execution_count": 10,
   "metadata": {
    "collapsed": false,
    "scrolled": true
   },
   "outputs": [
    {
     "data": {
      "text/html": [
       "<div>\n",
       "<table border=\"1\" class=\"dataframe\">\n",
       "  <thead>\n",
       "    <tr style=\"text-align: right;\">\n",
       "      <th></th>\n",
       "      <th>start_time</th>\n",
       "      <th>lobby_type</th>\n",
       "      <th>r1_hero</th>\n",
       "      <th>r1_level</th>\n",
       "      <th>r1_xp</th>\n",
       "      <th>r1_gold</th>\n",
       "      <th>r1_lh</th>\n",
       "      <th>r1_kills</th>\n",
       "      <th>r1_deaths</th>\n",
       "      <th>r1_items</th>\n",
       "      <th>...</th>\n",
       "      <th>dire_boots_count</th>\n",
       "      <th>dire_ward_observer_count</th>\n",
       "      <th>dire_ward_sentry_count</th>\n",
       "      <th>dire_first_ward_time</th>\n",
       "      <th>duration</th>\n",
       "      <th>radiant_win</th>\n",
       "      <th>tower_status_radiant</th>\n",
       "      <th>tower_status_dire</th>\n",
       "      <th>barracks_status_radiant</th>\n",
       "      <th>barracks_status_dire</th>\n",
       "    </tr>\n",
       "    <tr>\n",
       "      <th>match_id</th>\n",
       "      <th></th>\n",
       "      <th></th>\n",
       "      <th></th>\n",
       "      <th></th>\n",
       "      <th></th>\n",
       "      <th></th>\n",
       "      <th></th>\n",
       "      <th></th>\n",
       "      <th></th>\n",
       "      <th></th>\n",
       "      <th></th>\n",
       "      <th></th>\n",
       "      <th></th>\n",
       "      <th></th>\n",
       "      <th></th>\n",
       "      <th></th>\n",
       "      <th></th>\n",
       "      <th></th>\n",
       "      <th></th>\n",
       "      <th></th>\n",
       "      <th></th>\n",
       "    </tr>\n",
       "  </thead>\n",
       "  <tbody>\n",
       "    <tr>\n",
       "      <th>0</th>\n",
       "      <td>1430198770</td>\n",
       "      <td>7</td>\n",
       "      <td>11</td>\n",
       "      <td>5</td>\n",
       "      <td>2098</td>\n",
       "      <td>1489</td>\n",
       "      <td>20</td>\n",
       "      <td>0</td>\n",
       "      <td>0</td>\n",
       "      <td>7</td>\n",
       "      <td>...</td>\n",
       "      <td>4</td>\n",
       "      <td>2</td>\n",
       "      <td>2</td>\n",
       "      <td>-52</td>\n",
       "      <td>2874</td>\n",
       "      <td>1</td>\n",
       "      <td>1796</td>\n",
       "      <td>0</td>\n",
       "      <td>51</td>\n",
       "      <td>0</td>\n",
       "    </tr>\n",
       "    <tr>\n",
       "      <th>1</th>\n",
       "      <td>1430220345</td>\n",
       "      <td>0</td>\n",
       "      <td>42</td>\n",
       "      <td>4</td>\n",
       "      <td>1188</td>\n",
       "      <td>1033</td>\n",
       "      <td>9</td>\n",
       "      <td>0</td>\n",
       "      <td>1</td>\n",
       "      <td>12</td>\n",
       "      <td>...</td>\n",
       "      <td>4</td>\n",
       "      <td>3</td>\n",
       "      <td>1</td>\n",
       "      <td>-5</td>\n",
       "      <td>2463</td>\n",
       "      <td>1</td>\n",
       "      <td>1974</td>\n",
       "      <td>0</td>\n",
       "      <td>63</td>\n",
       "      <td>1</td>\n",
       "    </tr>\n",
       "    <tr>\n",
       "      <th>2</th>\n",
       "      <td>1430227081</td>\n",
       "      <td>7</td>\n",
       "      <td>33</td>\n",
       "      <td>4</td>\n",
       "      <td>1319</td>\n",
       "      <td>1270</td>\n",
       "      <td>22</td>\n",
       "      <td>0</td>\n",
       "      <td>0</td>\n",
       "      <td>12</td>\n",
       "      <td>...</td>\n",
       "      <td>4</td>\n",
       "      <td>3</td>\n",
       "      <td>1</td>\n",
       "      <td>13</td>\n",
       "      <td>2130</td>\n",
       "      <td>0</td>\n",
       "      <td>0</td>\n",
       "      <td>1830</td>\n",
       "      <td>0</td>\n",
       "      <td>63</td>\n",
       "    </tr>\n",
       "    <tr>\n",
       "      <th>3</th>\n",
       "      <td>1430263531</td>\n",
       "      <td>1</td>\n",
       "      <td>29</td>\n",
       "      <td>4</td>\n",
       "      <td>1779</td>\n",
       "      <td>1056</td>\n",
       "      <td>14</td>\n",
       "      <td>0</td>\n",
       "      <td>0</td>\n",
       "      <td>5</td>\n",
       "      <td>...</td>\n",
       "      <td>4</td>\n",
       "      <td>2</td>\n",
       "      <td>0</td>\n",
       "      <td>27</td>\n",
       "      <td>1459</td>\n",
       "      <td>0</td>\n",
       "      <td>1920</td>\n",
       "      <td>2047</td>\n",
       "      <td>50</td>\n",
       "      <td>63</td>\n",
       "    </tr>\n",
       "    <tr>\n",
       "      <th>4</th>\n",
       "      <td>1430282290</td>\n",
       "      <td>7</td>\n",
       "      <td>13</td>\n",
       "      <td>4</td>\n",
       "      <td>1431</td>\n",
       "      <td>1090</td>\n",
       "      <td>8</td>\n",
       "      <td>1</td>\n",
       "      <td>0</td>\n",
       "      <td>8</td>\n",
       "      <td>...</td>\n",
       "      <td>3</td>\n",
       "      <td>3</td>\n",
       "      <td>0</td>\n",
       "      <td>-16</td>\n",
       "      <td>2449</td>\n",
       "      <td>0</td>\n",
       "      <td>4</td>\n",
       "      <td>1974</td>\n",
       "      <td>3</td>\n",
       "      <td>63</td>\n",
       "    </tr>\n",
       "  </tbody>\n",
       "</table>\n",
       "<p>5 rows × 108 columns</p>\n",
       "</div>"
      ],
      "text/plain": [
       "          start_time  lobby_type  r1_hero  r1_level  r1_xp  r1_gold  r1_lh  \\\n",
       "match_id                                                                     \n",
       "0         1430198770           7       11         5   2098     1489     20   \n",
       "1         1430220345           0       42         4   1188     1033      9   \n",
       "2         1430227081           7       33         4   1319     1270     22   \n",
       "3         1430263531           1       29         4   1779     1056     14   \n",
       "4         1430282290           7       13         4   1431     1090      8   \n",
       "\n",
       "          r1_kills  r1_deaths  r1_items          ...           \\\n",
       "match_id                                         ...            \n",
       "0                0          0         7          ...            \n",
       "1                0          1        12          ...            \n",
       "2                0          0        12          ...            \n",
       "3                0          0         5          ...            \n",
       "4                1          0         8          ...            \n",
       "\n",
       "          dire_boots_count  dire_ward_observer_count  dire_ward_sentry_count  \\\n",
       "match_id                                                                       \n",
       "0                        4                         2                       2   \n",
       "1                        4                         3                       1   \n",
       "2                        4                         3                       1   \n",
       "3                        4                         2                       0   \n",
       "4                        3                         3                       0   \n",
       "\n",
       "          dire_first_ward_time  duration  radiant_win  tower_status_radiant  \\\n",
       "match_id                                                                      \n",
       "0                          -52      2874            1                  1796   \n",
       "1                           -5      2463            1                  1974   \n",
       "2                           13      2130            0                     0   \n",
       "3                           27      1459            0                  1920   \n",
       "4                          -16      2449            0                     4   \n",
       "\n",
       "          tower_status_dire  barracks_status_radiant  barracks_status_dire  \n",
       "match_id                                                                    \n",
       "0                         0                       51                     0  \n",
       "1                         0                       63                     1  \n",
       "2                      1830                        0                    63  \n",
       "3                      2047                       50                    63  \n",
       "4                      1974                        3                    63  \n",
       "\n",
       "[5 rows x 108 columns]"
      ]
     },
     "execution_count": 10,
     "metadata": {},
     "output_type": "execute_result"
    }
   ],
   "source": [
    "zfile = zipfile.ZipFile('features.zip')\n",
    "\n",
    "data = pd.read_csv(zfile.open('features.csv'), index_col='match_id')\n",
    "data.head()"
   ]
  },
  {
   "cell_type": "code",
   "execution_count": 11,
   "metadata": {
    "collapsed": false
   },
   "outputs": [
    {
     "data": {
      "text/plain": [
       "(97230,)"
      ]
     },
     "execution_count": 11,
     "metadata": {},
     "output_type": "execute_result"
    }
   ],
   "source": [
    "y = data.radiant_win\n",
    "np.shape(y)"
   ]
  },
  {
   "cell_type": "code",
   "execution_count": 12,
   "metadata": {
    "collapsed": false
   },
   "outputs": [
    {
     "data": {
      "text/plain": [
       "(97230, 102)"
      ]
     },
     "execution_count": 12,
     "metadata": {},
     "output_type": "execute_result"
    }
   ],
   "source": [
    "X = data.drop(['radiant_win','duration','tower_status_radiant','tower_status_dire',\n",
    "                                        'barracks_status_radiant','barracks_status_dire'], axis=1)\n",
    "np.shape(X)"
   ]
  },
  {
   "cell_type": "code",
   "execution_count": null,
   "metadata": {
    "collapsed": true
   },
   "outputs": [],
   "source": []
  },
  {
   "cell_type": "markdown",
   "metadata": {},
   "source": [
    "** 2.Проверьте выборку на наличие пропусков с помощью функции `count()`, которая для каждого столбца показывает число заполненных значений. Много ли пропусков в данных? Запишите названия признаков, имеющих пропуски, и попробуйте для любых двух из них дать обоснование, почему их значения могут быть пропущены. **"
   ]
  },
  {
   "cell_type": "code",
   "execution_count": 32,
   "metadata": {
    "collapsed": false
   },
   "outputs": [
    {
     "data": {
      "text/plain": [
       "first_blood_time               77677\n",
       "first_blood_team               77677\n",
       "first_blood_player1            77677\n",
       "first_blood_player2            53243\n",
       "radiant_bottle_time            81539\n",
       "radiant_courier_time           96538\n",
       "radiant_flying_courier_time    69751\n",
       "radiant_first_ward_time        95394\n",
       "dire_bottle_time               81087\n",
       "dire_courier_time              96554\n",
       "dire_flying_courier_time       71132\n",
       "dire_first_ward_time           95404\n",
       "dtype: int64"
      ]
     },
     "execution_count": 32,
     "metadata": {},
     "output_type": "execute_result"
    }
   ],
   "source": [
    "X.count()[ X.count() != len(X) ]"
   ]
  },
  {
   "cell_type": "code",
   "execution_count": null,
   "metadata": {
    "collapsed": true
   },
   "outputs": [],
   "source": []
  },
  {
   "cell_type": "markdown",
   "metadata": {},
   "source": [
    "** 3.Замените пропуски на нули с помощью функции `fillna()`. На самом деле этот способ является предпочтительным для логистической регрессии, поскольку он позволит пропущенному значению не вносить никакого вклада в предсказание. Для деревьев часто лучшим вариантом оказывается замена пропуска на очень большое или очень маленькое значение — в этом случае при построении разбиения вершины можно будет отправить объекты с пропусками в отдельную ветвь дерева. Также есть и другие подходы — например, замена пропуска на среднее значение признака. Мы не требуем этого в задании, но при желании попробуйте разные подходы к обработке пропусков и сравните их между собой. **"
   ]
  },
  {
   "cell_type": "code",
   "execution_count": 13,
   "metadata": {
    "collapsed": true
   },
   "outputs": [],
   "source": [
    "X.fillna(value=0, inplace=True)"
   ]
  },
  {
   "cell_type": "code",
   "execution_count": 14,
   "metadata": {
    "collapsed": false
   },
   "outputs": [
    {
     "data": {
      "text/plain": [
       "False"
      ]
     },
     "execution_count": 14,
     "metadata": {},
     "output_type": "execute_result"
    }
   ],
   "source": [
    "np.any( X.count()!=len(X) )"
   ]
  },
  {
   "cell_type": "code",
   "execution_count": null,
   "metadata": {
    "collapsed": true
   },
   "outputs": [],
   "source": []
  },
  {
   "cell_type": "markdown",
   "metadata": {},
   "source": [
    "** 4.Какой столбец содержит целевую переменную? Запишите его название. **"
   ]
  },
  {
   "cell_type": "code",
   "execution_count": 39,
   "metadata": {
    "collapsed": false
   },
   "outputs": [
    {
     "data": {
      "text/plain": [
       "count    97230.000000\n",
       "mean         0.518503\n",
       "std          0.499660\n",
       "min          0.000000\n",
       "25%          0.000000\n",
       "50%          1.000000\n",
       "75%          1.000000\n",
       "max          1.000000\n",
       "Name: radiant_win, dtype: float64"
      ]
     },
     "execution_count": 39,
     "metadata": {},
     "output_type": "execute_result"
    }
   ],
   "source": [
    "data['radiant_win'].describe()"
   ]
  },
  {
   "cell_type": "code",
   "execution_count": null,
   "metadata": {
    "collapsed": true
   },
   "outputs": [],
   "source": []
  },
  {
   "cell_type": "markdown",
   "metadata": {},
   "source": [
    "** 5.Забудем, что в выборке есть категориальные признаки, и попробуем обучить градиентный бустинг над деревьями на имеющейся матрице \"объекты-признаки\". Зафиксируйте генератор разбиений для кросс-валидации по 5 блокам (`KFold`), не забудьте перемешать при этом выборку (`shuffle=True`), поскольку данные в таблице отсортированы по времени, и без перемешивания можно столкнуться с нежелательными эффектами при оценивании качества. Оцените качество градиентного бустинга (`GradientBoostingClassifier`) с помощью данной кросс-валидации, попробуйте при этом разное количество деревьев (как минимум протестируйте следующие значения для количества деревьев: 10, 20, 30). Долго ли настраивались классификаторы? Достигнут ли оптимум на испытанных значениях параметра `n_estimators`, или же качество, скорее всего, продолжит расти при дальнейшем его увеличении? **"
   ]
  },
  {
   "cell_type": "code",
   "execution_count": 53,
   "metadata": {
    "collapsed": false
   },
   "outputs": [],
   "source": [
    "kfold = sklearn.cross_validation.KFold(len(X), n_folds=5, shuffle=True)\n",
    "\n",
    "boost_classifier = sklearn.ensemble.GradientBoostingClassifier(verbose=1)"
   ]
  },
  {
   "cell_type": "code",
   "execution_count": 254,
   "metadata": {
    "collapsed": false
   },
   "outputs": [
    {
     "data": {
      "text/plain": [
       "((9723, 102), (9723,))"
      ]
     },
     "execution_count": 254,
     "metadata": {},
     "output_type": "execute_result"
    }
   ],
   "source": [
    "X10 = np.array(X[::10])\n",
    "y10 = np.array(y[::10])\n",
    "np.shape(X10), np.shape(y10)"
   ]
  },
  {
   "cell_type": "code",
   "execution_count": null,
   "metadata": {
    "collapsed": false
   },
   "outputs": [],
   "source": []
  },
  {
   "cell_type": "code",
   "execution_count": 68,
   "metadata": {
    "collapsed": false,
    "scrolled": true
   },
   "outputs": [],
   "source": [
    "\n",
    "def calc_scores(X10, y10, n_folds=5, n_estimators=200):\n",
    "    \n",
    "    tic=time.time()\n",
    "    \n",
    "    scores_test = list()\n",
    "    scores_train = list()\n",
    "\n",
    "    kfold2 = sklearn.cross_validation.KFold(len(X10), n_folds=n_folds, shuffle=True)\n",
    "\n",
    "    boost_classifier = sklearn.ensemble.GradientBoostingClassifier(n_estimators=n_estimators, verbose=1)\n",
    "\n",
    "    for i, (train, test) in enumerate(kfold2):\n",
    "        scores_test.append(list())\n",
    "        scores_train.append(list())\n",
    "\n",
    "        boost_classifier.fit(X10[train], y10[train])\n",
    "        probas_test = [* boost_classifier.staged_predict_proba(X10[test]) ]\n",
    "        probas_train = [* boost_classifier.staged_predict_proba(X10[train]) ]\n",
    "\n",
    "        for e in range(boost_classifier.n_estimators):\n",
    "            scores_ = sklearn.metrics.roc_auc_score( y10[test], probas_test[e][:,1] )\n",
    "            scores_test[i].append(scores_)\n",
    "\n",
    "            scores_ = sklearn.metrics.roc_auc_score( y10[train], probas_train[e][:,1] )\n",
    "            scores_train[i].append(scores_)\n",
    "            \n",
    "    mean_scores_test = np.mean(scores_test,axis=0)\n",
    "    std_scores_test = np.std(scores_test,axis=0)\n",
    "    mean_scores_train = np.mean(scores_train,axis=0)\n",
    "    std_scores_train = np.std(scores_train,axis=0)\n",
    "\n",
    "    toc=time.time()\n",
    "    \n",
    "    return [mean_scores_test, std_scores_test], [mean_scores_train, std_scores_train], toc-tic\n"
   ]
  },
  {
   "cell_type": "code",
   "execution_count": 294,
   "metadata": {
    "collapsed": false,
    "scrolled": true
   },
   "outputs": [
    {
     "name": "stdout",
     "output_type": "stream",
     "text": [
      "      Iter       Train Loss   Remaining Time \n",
      "         1           1.3786            5.17m\n",
      "         2           1.3731            5.05m\n",
      "         3           1.3681            4.86m\n",
      "         4           1.3634            4.69m\n",
      "         5           1.3592            4.53m\n",
      "         6           1.3543            4.34m\n",
      "         7           1.3499            4.14m\n",
      "         8           1.3455            3.96m\n",
      "         9           1.3415            3.77m\n",
      "        10           1.3377            3.61m\n",
      "        20           1.3080            1.87m\n",
      "        30           1.2876            0.00s\n",
      "      Iter       Train Loss   Remaining Time \n",
      "         1           1.3786            5.42m\n",
      "         2           1.3728            5.07m\n",
      "         3           1.3679            4.90m\n",
      "         4           1.3634            4.79m\n",
      "         5           1.3589            4.60m\n",
      "         6           1.3541            4.42m\n",
      "         7           1.3498            4.21m\n",
      "         8           1.3456            4.01m\n",
      "         9           1.3416            3.82m\n",
      "        10           1.3378            3.66m\n",
      "        20           1.3081            1.88m\n",
      "        30           1.2880            0.00s\n",
      "      Iter       Train Loss   Remaining Time \n",
      "         1           1.3784            5.47m\n",
      "         2           1.3725            5.30m\n",
      "         3           1.3676            5.12m\n",
      "         4           1.3632            4.97m\n",
      "         5           1.3585            4.84m\n",
      "         6           1.3542            4.67m\n",
      "         7           1.3498            4.45m\n",
      "         8           1.3456            4.28m\n",
      "         9           1.3415            4.09m\n",
      "        10           1.3377            3.91m\n",
      "        20           1.3078            1.95m\n",
      "        30           1.2872            0.00s\n",
      "      Iter       Train Loss   Remaining Time \n",
      "         1           1.3785            5.35m\n",
      "         2           1.3729            5.14m\n",
      "         3           1.3677            4.98m\n",
      "         4           1.3633            4.77m\n",
      "         5           1.3588            4.60m\n",
      "         6           1.3542            4.40m\n",
      "         7           1.3497            4.34m\n",
      "         8           1.3455            4.13m\n",
      "         9           1.3415            3.91m\n",
      "        10           1.3378            3.72m\n",
      "        20           1.3081            1.83m\n",
      "        30           1.2878            0.00s\n",
      "      Iter       Train Loss   Remaining Time \n",
      "         1           1.3785            5.16m\n",
      "         2           1.3729            4.95m\n",
      "         3           1.3680            4.77m\n",
      "         4           1.3632            4.60m\n",
      "         5           1.3591            4.43m\n",
      "         6           1.3545            4.25m\n",
      "         7           1.3500            4.07m\n",
      "         8           1.3458            3.89m\n",
      "         9           1.3419            3.70m\n",
      "        10           1.3381            3.53m\n",
      "        20           1.3082            1.78m\n",
      "        30           1.2879            0.00s\n"
     ]
    }
   ],
   "source": [
    "scores_X_test, scores_X_train, time_X = calc_scores(np.array(X), np.array(y), n_folds=5, n_estimators=30)"
   ]
  },
  {
   "cell_type": "code",
   "execution_count": 296,
   "metadata": {
    "collapsed": false
   },
   "outputs": [
    {
     "data": {
      "text/plain": [
       "((2, 30), (2, 30), '28.387487403551738 m.')"
      ]
     },
     "execution_count": 296,
     "metadata": {},
     "output_type": "execute_result"
    }
   ],
   "source": [
    "np.shape(scores_X_test), np.shape(scores_X_train), str(time_X/60)+' m.'"
   ]
  },
  {
   "cell_type": "code",
   "execution_count": null,
   "metadata": {
    "collapsed": true
   },
   "outputs": [],
   "source": []
  },
  {
   "cell_type": "code",
   "execution_count": 298,
   "metadata": {
    "collapsed": false,
    "scrolled": true
   },
   "outputs": [
    {
     "name": "stdout",
     "output_type": "stream",
     "text": [
      "      Iter       Train Loss   Remaining Time \n",
      "         1           1.3772            2.43m\n",
      "         2           1.3693            2.25m\n",
      "         3           1.3624            2.18m\n",
      "         4           1.3548            2.16m\n",
      "         5           1.3479            2.22m\n",
      "         6           1.3414            2.20m\n",
      "         7           1.3351            2.18m\n",
      "         8           1.3296            2.14m\n",
      "         9           1.3238            2.12m\n",
      "        10           1.3188            2.11m\n",
      "        20           1.2722            1.96m\n",
      "        30           1.2380            1.83m\n",
      "        40           1.2093            1.70m\n",
      "        50           1.1840            1.59m\n",
      "        60           1.1630            1.47m\n",
      "        70           1.1441            1.35m\n",
      "        80           1.1267            1.25m\n",
      "        90           1.1118            1.14m\n",
      "       100           1.0970            1.04m\n",
      "       200           0.9828            0.00s\n",
      "      Iter       Train Loss   Remaining Time \n",
      "         1           1.3759            2.20m\n",
      "         2           1.3681            2.14m\n",
      "         3           1.3613            2.10m\n",
      "         4           1.3544            2.24m\n",
      "         5           1.3474            2.29m\n",
      "         6           1.3411            2.26m\n",
      "         7           1.3348            2.21m\n",
      "         8           1.3293            2.17m\n",
      "         9           1.3236            2.14m\n",
      "        10           1.3181            2.11m\n",
      "        20           1.2727            1.92m\n",
      "        30           1.2382            1.78m\n",
      "        40           1.2098            1.67m\n",
      "        50           1.1848            1.55m\n",
      "        60           1.1630            1.44m\n",
      "        70           1.1429            1.34m\n",
      "        80           1.1268            1.23m\n",
      "        90           1.1106            1.13m\n",
      "       100           1.0963            1.02m\n",
      "       200           0.9917            0.00s\n",
      "      Iter       Train Loss   Remaining Time \n",
      "         1           1.3742            2.16m\n",
      "         2           1.3660            2.12m\n",
      "         3           1.3588            2.14m\n",
      "         4           1.3516            2.21m\n",
      "         5           1.3445            2.17m\n",
      "         6           1.3378            2.12m\n",
      "         7           1.3315            2.10m\n",
      "         8           1.3245            2.09m\n",
      "         9           1.3181            2.07m\n",
      "        10           1.3127            2.05m\n",
      "        20           1.2673            1.89m\n",
      "        30           1.2340            1.79m\n",
      "        40           1.2066            1.67m\n",
      "        50           1.1833            1.56m\n",
      "        60           1.1622            1.46m\n",
      "        70           1.1444            1.35m\n",
      "        80           1.1284            1.25m\n",
      "        90           1.1147            1.15m\n",
      "       100           1.1003            1.04m\n",
      "       200           0.9924            0.00s\n"
     ]
    }
   ],
   "source": [
    "scores_X10_test, scores_X10_train, time_X10 = calc_scores(X10, y10, n_folds=3, n_estimators=200)"
   ]
  },
  {
   "cell_type": "code",
   "execution_count": 299,
   "metadata": {
    "collapsed": false
   },
   "outputs": [
    {
     "data": {
      "text/plain": [
       "((2, 200), (2, 200), '6.336785733699799 m.')"
      ]
     },
     "execution_count": 299,
     "metadata": {},
     "output_type": "execute_result"
    }
   ],
   "source": [
    "np.shape(scores_X10_test), np.shape(scores_X10_train), str(time_X10/60)+' m.'"
   ]
  },
  {
   "cell_type": "code",
   "execution_count": null,
   "metadata": {
    "collapsed": true
   },
   "outputs": [],
   "source": []
  },
  {
   "cell_type": "code",
   "execution_count": 383,
   "metadata": {
    "collapsed": true
   },
   "outputs": [],
   "source": [
    "def error_plot(y, error_y, label='', xlabel='n_estimators', ylabel='roc_auc_score', title=None, *args, **kwargs):\n",
    "    plt.plot(np.arange(len(y))+1, y, label=label, *args, **kwargs)\n",
    "    plt.fill_between(x=np.arange(len(y))+1, y1=y-error_y, y2=y+error_y, alpha=0.25, *args, **kwargs)\n",
    "    plt.xlabel(xlabel)\n",
    "    plt.ylabel(ylabel)\n",
    "    if title: plt.title(title)\n",
    "        \n",
    "    plt.legend(loc=0)\n",
    "\n",
    "    plt.axvline(10,c='k',linestyle=':')\n",
    "    plt.axvline(20,c='k',linestyle=':')\n",
    "    plt.axvline(30,c='k',linestyle=':')"
   ]
  },
  {
   "cell_type": "code",
   "execution_count": 384,
   "metadata": {
    "collapsed": false
   },
   "outputs": [
    {
     "data": {
      "image/png": "[encoded data removed]",
      "text/plain": [
       "<matplotlib.figure.Figure at 0xa1a3e30>"
      ]
     },
     "metadata": {},
     "output_type": "display_data"
    }
   ],
   "source": [
    "\n",
    "fig,ax = plt.subplots(1,2, figsize=(15,5))\n",
    "\n",
    "plt.subplot(121)\n",
    "title = 'X' + ',  n_folds=5' + ',  time={:.2f} m.'.format(time_X/60)\n",
    "error_plot(scores_X_test[0], scores_X_test[1], color='b', label='scores_X_test', title=title)\n",
    "error_plot(scores_X_train[0], scores_X_train[1], color='g', label='scores_X_train')\n",
    "plt.ylim([0.9, 0.6]);\n",
    "\n",
    "plt.subplot(122)\n",
    "title='len(X)/10' + ',  n_folds=3' + ',  time={:.2f} m.'.format(time_X10/60)\n",
    "error_plot(scores_X10_test[0], scores_X10_test[1], color='b', label='scores_X10_test', title=title)\n",
    "error_plot(scores_X10_train[0], scores_X10_train[1], color='g', label='scores_X10_train')\n",
    "plt.ylim([0.9, 0.6]);"
   ]
  },
  {
   "cell_type": "code",
   "execution_count": 378,
   "metadata": {
    "collapsed": false
   },
   "outputs": [
    {
     "data": {
      "text/plain": [
       "(0.68929122420419542, 0.69781476212375149)"
      ]
     },
     "execution_count": 378,
     "metadata": {},
     "output_type": "execute_result"
    }
   ],
   "source": [
    "max(scores_X_test[0]), max(scores_X10_test[0])"
   ]
  },
  {
   "cell_type": "code",
   "execution_count": 389,
   "metadata": {
    "collapsed": false
   },
   "outputs": [
    {
     "data": {
      "text/plain": [
       "(29, 148)"
      ]
     },
     "execution_count": 389,
     "metadata": {},
     "output_type": "execute_result"
    }
   ],
   "source": [
    "np.where( scores_X_test[0]==max(scores_X_test[0]) )[0][0], np.where( scores_X10_test[0]==max(scores_X10_test[0]) )[0][0]"
   ]
  },
  {
   "cell_type": "code",
   "execution_count": null,
   "metadata": {
    "collapsed": true
   },
   "outputs": [],
   "source": []
  },
  {
   "cell_type": "markdown",
   "metadata": {},
   "source": [
    "### В отчете по данному этапу должны содержаться ответы на следующие вопросы:\n",
    "\n",
    "** 1.Какие признаки имеют пропуски среди своих значений (приведите полный список имен этих признаков)? Что могут означать пропуски в этих признаках (ответьте на этот вопрос для двух любых признаков)? **"
   ]
  },
  {
   "cell_type": "markdown",
   "metadata": {},
   "source": [
    "<font color=\"darkblue\" size=\"3em\">\n",
    "\n",
    "Пропуски имеют следующие признаки:\n",
    "\n",
    "```\n",
    "Признак                        Количество  Комментарий\n",
    "                               значений \n",
    "\n",
    "first_blood_time               77677       # игровое время первой крови\n",
    "first_blood_team               77677       # команда, совершившая первую кровь (0 — Radiant, 1 — Dire)\n",
    "first_blood_player1            77677       # игрок, причастный к событию\n",
    "first_blood_player2            53243       # второй игрок, причастный к событию\n",
    "\n",
    "radiant_bottle_time            81539       # время первого приобретения командой предмета \"bottle\"\n",
    "radiant_courier_time           96538       # время приобретения предмета \"courier\"\n",
    "radiant_flying_courier_time    69751       # время приобретения предмета \"flying_courier\"\n",
    "radiant_first_ward_time        95394       # время установки командой первого \"наблюдателя\", т.е. предмета, \n",
    "                                           # который позволяет видеть часть игрового поля\n",
    "dire_bottle_time               81087\n",
    "dire_courier_time              96554\n",
    "dire_flying_courier_time       71132\n",
    "dire_first_ward_time           95404\n",
    "```\n",
    "\n",
    "Первые четыре признака из этого списка - признаки события \"первая кровь\" (first blood). Если событие \"первая кровь\" не успело произойти за первые 5 минут, то признаки принимают пропущенное значение.\n",
    "\n",
    "Следующие восемь признаков - признаки приобретения некоторых предметов каждой из команд (префиксы radiant и dire). По всей видимости, данные события для команд происходят не в каждой игре."
   ]
  },
  {
   "cell_type": "markdown",
   "metadata": {},
   "source": [
    "** 2.Как называется столбец, содержащий целевую переменную? **"
   ]
  },
  {
   "cell_type": "markdown",
   "metadata": {},
   "source": [
    "<font color=\"darkblue\" size=\"3em\">\n",
    "\n",
    "Целевую переменную содержит столбец  `radiant_win`"
   ]
  },
  {
   "cell_type": "markdown",
   "metadata": {},
   "source": [
    "** 3.Как долго проводилась кросс-валидация для градиентного бустинга с 30 деревьями? Инструкцию по измерению времени можно найти выше по тексту. Какое качество при этом получилось? **"
   ]
  },
  {
   "cell_type": "markdown",
   "metadata": {},
   "source": [
    "<font color=\"darkblue\" size=\"3em\">\n",
    "\n",
    "Кросс-валидация для градиентного бустинга с параметром `n_folds=5` и `n_estimators=30` на полной выборке данных проводилась 28.4 мин. При этом лучшее значение `auc_roc`, характеризующее качество классификации, получилось равно `0.689`."
   ]
  },
  {
   "cell_type": "markdown",
   "metadata": {},
   "source": [
    "** 4.Имеет ли смысл использовать больше 30 деревьев в градиентном бустинге? Что можно сделать, чтобы ускорить его обучение при увеличении количества деревьев? **"
   ]
  },
  {
   "cell_type": "markdown",
   "metadata": {},
   "source": [
    "<font color=\"darkblue\" size=\"3em\">\n",
    "\n",
    "При использовании 10, 20, 30 деревьев наблюдается тенденция к увеличению точности (значения `roc_auc_score`) классификации при кросс-валидации. Увеличение количества деревьев должно повысить точность классификации.\n",
    "\n",
    "Для ускорения обучения при увеличении количества деревьев можно, например, использовать для обучения меньшую по размеру выбору данных. \n",
    "\n",
    "На рисунках показано как зависит точность классификации от количества деревьев (`n_estimators`) для полной выборки и уменьшенной в 10 раз. Построены зависимости для тестирования классификации на тестовой выборке (синяя кривая), и той же выборке, на которой проводилось обучение (зеленая кривая). Тенденция к уменьшению ошибки классификации с увеличением количества деревьев до 200, сохраняется. Синяя и зеленая кривые для полной выборки (левый рисунок) достаточно похожи, в то время как для сокращённой в десять раз (правый рисунок) - сильно расходятся. Качество классификации при тестировании на той же выборке, на которой проводилось обучение (зеленая кривая на правом рисунке), стремится к практически идеальному. Скорее всего, это связано с переобучением, возникающим из-за недостаточно репрезентативной (сокращенной в 10 раз) обучающей выборки."
   ]
  },
  {
   "cell_type": "code",
   "execution_count": null,
   "metadata": {
    "collapsed": true
   },
   "outputs": [],
   "source": []
  },
  {
   "cell_type": "code",
   "execution_count": null,
   "metadata": {
    "collapsed": true
   },
   "outputs": [],
   "source": []
  },
  {
   "cell_type": "markdown",
   "metadata": {},
   "source": [
    "### Подход 2: логистическая регрессия\n",
    "\n",
    "Линейные методы работают гораздо быстрее композиций деревьев, поэтому кажется разумным воспользоваться именно ими для ускорения анализа данных. Одним из наиболее распространенных методов для классификации является логистическая регрессия.\n",
    "\n",
    "**Важно:** не забывайте, что линейные алгоритмы чувствительны к масштабу признаков! Может пригодиться `sklearn.preprocessing.StandartScaler`.\n",
    "\n",
    "** 1.Оцените качество логистической регрессии (`sklearn.linear_model.LogisticRegression` с L2-регуляризацией) с помощью кросс-валидации по той же схеме, которая использовалась для градиентного бустинга. Подберите при этом лучший параметр регуляризации (`C`). Какое наилучшее качество у вас получилось? Как оно соотносится с качеством градиентного бустинга? Чем вы можете объяснить эту разницу? Быстрее ли работает логистическая регрессия по сравнению с градиентным бустингом? **"
   ]
  },
  {
   "cell_type": "code",
   "execution_count": 15,
   "metadata": {
    "collapsed": false
   },
   "outputs": [
    {
     "data": {
      "text/html": [
       "<div>\n",
       "<table border=\"1\" class=\"dataframe\">\n",
       "  <thead>\n",
       "    <tr style=\"text-align: right;\">\n",
       "      <th></th>\n",
       "      <th>start_time</th>\n",
       "      <th>lobby_type</th>\n",
       "      <th>r1_hero</th>\n",
       "      <th>r1_level</th>\n",
       "      <th>r1_xp</th>\n",
       "      <th>r1_gold</th>\n",
       "      <th>r1_lh</th>\n",
       "      <th>r1_kills</th>\n",
       "      <th>r1_deaths</th>\n",
       "      <th>r1_items</th>\n",
       "      <th>...</th>\n",
       "      <th>radiant_ward_sentry_count</th>\n",
       "      <th>radiant_first_ward_time</th>\n",
       "      <th>dire_bottle_time</th>\n",
       "      <th>dire_courier_time</th>\n",
       "      <th>dire_flying_courier_time</th>\n",
       "      <th>dire_tpscroll_count</th>\n",
       "      <th>dire_boots_count</th>\n",
       "      <th>dire_ward_observer_count</th>\n",
       "      <th>dire_ward_sentry_count</th>\n",
       "      <th>dire_first_ward_time</th>\n",
       "    </tr>\n",
       "  </thead>\n",
       "  <tbody>\n",
       "    <tr>\n",
       "      <th>count</th>\n",
       "      <td>9.723000e+04</td>\n",
       "      <td>97230.000000</td>\n",
       "      <td>97230.000000</td>\n",
       "      <td>97230.000000</td>\n",
       "      <td>97230.000000</td>\n",
       "      <td>97230.000000</td>\n",
       "      <td>97230.000000</td>\n",
       "      <td>97230.000000</td>\n",
       "      <td>97230.000000</td>\n",
       "      <td>97230.000000</td>\n",
       "      <td>...</td>\n",
       "      <td>97230.000000</td>\n",
       "      <td>97230.000000</td>\n",
       "      <td>97230.000000</td>\n",
       "      <td>97230.000000</td>\n",
       "      <td>97230.000000</td>\n",
       "      <td>97230.000000</td>\n",
       "      <td>97230.000000</td>\n",
       "      <td>97230.000000</td>\n",
       "      <td>97230.000000</td>\n",
       "      <td>97230.000000</td>\n",
       "    </tr>\n",
       "    <tr>\n",
       "      <th>mean</th>\n",
       "      <td>1.444232e+09</td>\n",
       "      <td>2.630999</td>\n",
       "      <td>51.517104</td>\n",
       "      <td>3.442672</td>\n",
       "      <td>1233.405801</td>\n",
       "      <td>1147.899702</td>\n",
       "      <td>11.231996</td>\n",
       "      <td>0.357009</td>\n",
       "      <td>0.362285</td>\n",
       "      <td>8.271315</td>\n",
       "      <td>...</td>\n",
       "      <td>0.716250</td>\n",
       "      <td>-6.745912</td>\n",
       "      <td>106.093644</td>\n",
       "      <td>-79.634352</td>\n",
       "      <td>157.196040</td>\n",
       "      <td>2.965566</td>\n",
       "      <td>3.349553</td>\n",
       "      <td>2.448339</td>\n",
       "      <td>0.689119</td>\n",
       "      <td>-6.772303</td>\n",
       "    </tr>\n",
       "    <tr>\n",
       "      <th>std</th>\n",
       "      <td>5.515393e+06</td>\n",
       "      <td>2.835761</td>\n",
       "      <td>32.564211</td>\n",
       "      <td>1.111741</td>\n",
       "      <td>566.588895</td>\n",
       "      <td>464.111662</td>\n",
       "      <td>9.041620</td>\n",
       "      <td>0.663889</td>\n",
       "      <td>0.626704</td>\n",
       "      <td>2.497575</td>\n",
       "      <td>...</td>\n",
       "      <td>0.725331</td>\n",
       "      <td>39.145035</td>\n",
       "      <td>74.111528</td>\n",
       "      <td>16.604443</td>\n",
       "      <td>99.593382</td>\n",
       "      <td>1.907288</td>\n",
       "      <td>1.155609</td>\n",
       "      <td>0.813459</td>\n",
       "      <td>0.710122</td>\n",
       "      <td>40.328277</td>\n",
       "    </tr>\n",
       "    <tr>\n",
       "      <th>min</th>\n",
       "      <td>1.430199e+09</td>\n",
       "      <td>0.000000</td>\n",
       "      <td>1.000000</td>\n",
       "      <td>0.000000</td>\n",
       "      <td>0.000000</td>\n",
       "      <td>0.000000</td>\n",
       "      <td>0.000000</td>\n",
       "      <td>0.000000</td>\n",
       "      <td>0.000000</td>\n",
       "      <td>0.000000</td>\n",
       "      <td>...</td>\n",
       "      <td>0.000000</td>\n",
       "      <td>-236.000000</td>\n",
       "      <td>-45.000000</td>\n",
       "      <td>-90.000000</td>\n",
       "      <td>0.000000</td>\n",
       "      <td>0.000000</td>\n",
       "      <td>0.000000</td>\n",
       "      <td>0.000000</td>\n",
       "      <td>0.000000</td>\n",
       "      <td>-84.000000</td>\n",
       "    </tr>\n",
       "    <tr>\n",
       "      <th>25%</th>\n",
       "      <td>1.440815e+09</td>\n",
       "      <td>1.000000</td>\n",
       "      <td>22.000000</td>\n",
       "      <td>3.000000</td>\n",
       "      <td>767.000000</td>\n",
       "      <td>746.000000</td>\n",
       "      <td>2.000000</td>\n",
       "      <td>0.000000</td>\n",
       "      <td>0.000000</td>\n",
       "      <td>7.000000</td>\n",
       "      <td>...</td>\n",
       "      <td>0.000000</td>\n",
       "      <td>-31.000000</td>\n",
       "      <td>42.000000</td>\n",
       "      <td>-86.000000</td>\n",
       "      <td>0.000000</td>\n",
       "      <td>2.000000</td>\n",
       "      <td>3.000000</td>\n",
       "      <td>2.000000</td>\n",
       "      <td>0.000000</td>\n",
       "      <td>-31.000000</td>\n",
       "    </tr>\n",
       "    <tr>\n",
       "      <th>50%</th>\n",
       "      <td>1.446338e+09</td>\n",
       "      <td>1.000000</td>\n",
       "      <td>50.000000</td>\n",
       "      <td>3.000000</td>\n",
       "      <td>1175.000000</td>\n",
       "      <td>1113.000000</td>\n",
       "      <td>11.000000</td>\n",
       "      <td>0.000000</td>\n",
       "      <td>0.000000</td>\n",
       "      <td>8.000000</td>\n",
       "      <td>...</td>\n",
       "      <td>1.000000</td>\n",
       "      <td>-14.000000</td>\n",
       "      <td>118.000000</td>\n",
       "      <td>-84.000000</td>\n",
       "      <td>189.000000</td>\n",
       "      <td>3.000000</td>\n",
       "      <td>3.000000</td>\n",
       "      <td>2.000000</td>\n",
       "      <td>1.000000</td>\n",
       "      <td>-15.000000</td>\n",
       "    </tr>\n",
       "    <tr>\n",
       "      <th>75%</th>\n",
       "      <td>1.448829e+09</td>\n",
       "      <td>7.000000</td>\n",
       "      <td>75.000000</td>\n",
       "      <td>4.000000</td>\n",
       "      <td>1704.000000</td>\n",
       "      <td>1479.000000</td>\n",
       "      <td>19.000000</td>\n",
       "      <td>1.000000</td>\n",
       "      <td>1.000000</td>\n",
       "      <td>10.000000</td>\n",
       "      <td>...</td>\n",
       "      <td>1.000000</td>\n",
       "      <td>9.000000</td>\n",
       "      <td>158.000000</td>\n",
       "      <td>-79.000000</td>\n",
       "      <td>222.000000</td>\n",
       "      <td>4.000000</td>\n",
       "      <td>4.000000</td>\n",
       "      <td>3.000000</td>\n",
       "      <td>1.000000</td>\n",
       "      <td>8.000000</td>\n",
       "    </tr>\n",
       "    <tr>\n",
       "      <th>max</th>\n",
       "      <td>1.450313e+09</td>\n",
       "      <td>7.000000</td>\n",
       "      <td>112.000000</td>\n",
       "      <td>6.000000</td>\n",
       "      <td>3319.000000</td>\n",
       "      <td>4332.000000</td>\n",
       "      <td>47.000000</td>\n",
       "      <td>8.000000</td>\n",
       "      <td>5.000000</td>\n",
       "      <td>34.000000</td>\n",
       "      <td>...</td>\n",
       "      <td>25.000000</td>\n",
       "      <td>300.000000</td>\n",
       "      <td>300.000000</td>\n",
       "      <td>296.000000</td>\n",
       "      <td>300.000000</td>\n",
       "      <td>21.000000</td>\n",
       "      <td>9.000000</td>\n",
       "      <td>9.000000</td>\n",
       "      <td>13.000000</td>\n",
       "      <td>300.000000</td>\n",
       "    </tr>\n",
       "  </tbody>\n",
       "</table>\n",
       "<p>8 rows × 102 columns</p>\n",
       "</div>"
      ],
      "text/plain": [
       "         start_time    lobby_type       r1_hero      r1_level         r1_xp  \\\n",
       "count  9.723000e+04  97230.000000  97230.000000  97230.000000  97230.000000   \n",
       "mean   1.444232e+09      2.630999     51.517104      3.442672   1233.405801   \n",
       "std    5.515393e+06      2.835761     32.564211      1.111741    566.588895   \n",
       "min    1.430199e+09      0.000000      1.000000      0.000000      0.000000   \n",
       "25%    1.440815e+09      1.000000     22.000000      3.000000    767.000000   \n",
       "50%    1.446338e+09      1.000000     50.000000      3.000000   1175.000000   \n",
       "75%    1.448829e+09      7.000000     75.000000      4.000000   1704.000000   \n",
       "max    1.450313e+09      7.000000    112.000000      6.000000   3319.000000   \n",
       "\n",
       "            r1_gold         r1_lh      r1_kills     r1_deaths      r1_items  \\\n",
       "count  97230.000000  97230.000000  97230.000000  97230.000000  97230.000000   \n",
       "mean    1147.899702     11.231996      0.357009      0.362285      8.271315   \n",
       "std      464.111662      9.041620      0.663889      0.626704      2.497575   \n",
       "min        0.000000      0.000000      0.000000      0.000000      0.000000   \n",
       "25%      746.000000      2.000000      0.000000      0.000000      7.000000   \n",
       "50%     1113.000000     11.000000      0.000000      0.000000      8.000000   \n",
       "75%     1479.000000     19.000000      1.000000      1.000000     10.000000   \n",
       "max     4332.000000     47.000000      8.000000      5.000000     34.000000   \n",
       "\n",
       "               ...           radiant_ward_sentry_count  \\\n",
       "count          ...                        97230.000000   \n",
       "mean           ...                            0.716250   \n",
       "std            ...                            0.725331   \n",
       "min            ...                            0.000000   \n",
       "25%            ...                            0.000000   \n",
       "50%            ...                            1.000000   \n",
       "75%            ...                            1.000000   \n",
       "max            ...                           25.000000   \n",
       "\n",
       "       radiant_first_ward_time  dire_bottle_time  dire_courier_time  \\\n",
       "count             97230.000000      97230.000000       97230.000000   \n",
       "mean                 -6.745912        106.093644         -79.634352   \n",
       "std                  39.145035         74.111528          16.604443   \n",
       "min                -236.000000        -45.000000         -90.000000   \n",
       "25%                 -31.000000         42.000000         -86.000000   \n",
       "50%                 -14.000000        118.000000         -84.000000   \n",
       "75%                   9.000000        158.000000         -79.000000   \n",
       "max                 300.000000        300.000000         296.000000   \n",
       "\n",
       "       dire_flying_courier_time  dire_tpscroll_count  dire_boots_count  \\\n",
       "count              97230.000000         97230.000000      97230.000000   \n",
       "mean                 157.196040             2.965566          3.349553   \n",
       "std                   99.593382             1.907288          1.155609   \n",
       "min                    0.000000             0.000000          0.000000   \n",
       "25%                    0.000000             2.000000          3.000000   \n",
       "50%                  189.000000             3.000000          3.000000   \n",
       "75%                  222.000000             4.000000          4.000000   \n",
       "max                  300.000000            21.000000          9.000000   \n",
       "\n",
       "       dire_ward_observer_count  dire_ward_sentry_count  dire_first_ward_time  \n",
       "count              97230.000000            97230.000000          97230.000000  \n",
       "mean                   2.448339                0.689119             -6.772303  \n",
       "std                    0.813459                0.710122             40.328277  \n",
       "min                    0.000000                0.000000            -84.000000  \n",
       "25%                    2.000000                0.000000            -31.000000  \n",
       "50%                    2.000000                1.000000            -15.000000  \n",
       "75%                    3.000000                1.000000              8.000000  \n",
       "max                    9.000000               13.000000            300.000000  \n",
       "\n",
       "[8 rows x 102 columns]"
      ]
     },
     "execution_count": 15,
     "metadata": {},
     "output_type": "execute_result"
    }
   ],
   "source": [
    "X.describe()"
   ]
  },
  {
   "cell_type": "code",
   "execution_count": 16,
   "metadata": {
    "collapsed": true
   },
   "outputs": [],
   "source": [
    "scaler = sklearn.preprocessing.StandardScaler()\n",
    "X_ = scaler.fit_transform(X)"
   ]
  },
  {
   "cell_type": "code",
   "execution_count": 17,
   "metadata": {
    "collapsed": true
   },
   "outputs": [],
   "source": [
    "X = pd.DataFrame(X_, index=X.index, columns=X.columns)"
   ]
  },
  {
   "cell_type": "code",
   "execution_count": 18,
   "metadata": {
    "collapsed": false
   },
   "outputs": [
    {
     "data": {
      "text/plain": [
       "(97230, 102)"
      ]
     },
     "execution_count": 18,
     "metadata": {},
     "output_type": "execute_result"
    }
   ],
   "source": [
    "np.shape(X)"
   ]
  },
  {
   "cell_type": "code",
   "execution_count": 19,
   "metadata": {
    "collapsed": false
   },
   "outputs": [
    {
     "data": {
      "text/html": [
       "<div>\n",
       "<table border=\"1\" class=\"dataframe\">\n",
       "  <thead>\n",
       "    <tr style=\"text-align: right;\">\n",
       "      <th></th>\n",
       "      <th>start_time</th>\n",
       "      <th>lobby_type</th>\n",
       "      <th>r1_hero</th>\n",
       "      <th>r1_level</th>\n",
       "      <th>r1_xp</th>\n",
       "      <th>r1_gold</th>\n",
       "      <th>r1_lh</th>\n",
       "      <th>r1_kills</th>\n",
       "      <th>r1_deaths</th>\n",
       "      <th>r1_items</th>\n",
       "      <th>...</th>\n",
       "      <th>radiant_ward_sentry_count</th>\n",
       "      <th>radiant_first_ward_time</th>\n",
       "      <th>dire_bottle_time</th>\n",
       "      <th>dire_courier_time</th>\n",
       "      <th>dire_flying_courier_time</th>\n",
       "      <th>dire_tpscroll_count</th>\n",
       "      <th>dire_boots_count</th>\n",
       "      <th>dire_ward_observer_count</th>\n",
       "      <th>dire_ward_sentry_count</th>\n",
       "      <th>dire_first_ward_time</th>\n",
       "    </tr>\n",
       "  </thead>\n",
       "  <tbody>\n",
       "    <tr>\n",
       "      <th>count</th>\n",
       "      <td>9.723000e+04</td>\n",
       "      <td>9.723000e+04</td>\n",
       "      <td>9.723000e+04</td>\n",
       "      <td>9.723000e+04</td>\n",
       "      <td>9.723000e+04</td>\n",
       "      <td>9.723000e+04</td>\n",
       "      <td>9.723000e+04</td>\n",
       "      <td>9.723000e+04</td>\n",
       "      <td>9.723000e+04</td>\n",
       "      <td>9.723000e+04</td>\n",
       "      <td>...</td>\n",
       "      <td>9.723000e+04</td>\n",
       "      <td>9.723000e+04</td>\n",
       "      <td>9.723000e+04</td>\n",
       "      <td>9.723000e+04</td>\n",
       "      <td>9.723000e+04</td>\n",
       "      <td>9.723000e+04</td>\n",
       "      <td>9.723000e+04</td>\n",
       "      <td>9.723000e+04</td>\n",
       "      <td>9.723000e+04</td>\n",
       "      <td>9.723000e+04</td>\n",
       "    </tr>\n",
       "    <tr>\n",
       "      <th>mean</th>\n",
       "      <td>-1.196314e-14</td>\n",
       "      <td>-1.207810e-13</td>\n",
       "      <td>-7.771676e-16</td>\n",
       "      <td>3.483134e-15</td>\n",
       "      <td>1.749769e-16</td>\n",
       "      <td>4.000126e-16</td>\n",
       "      <td>1.875506e-15</td>\n",
       "      <td>1.562528e-14</td>\n",
       "      <td>-1.285509e-14</td>\n",
       "      <td>1.675296e-15</td>\n",
       "      <td>...</td>\n",
       "      <td>-1.766165e-14</td>\n",
       "      <td>-4.253560e-15</td>\n",
       "      <td>5.158146e-15</td>\n",
       "      <td>-6.090892e-16</td>\n",
       "      <td>-1.830392e-14</td>\n",
       "      <td>-1.118102e-13</td>\n",
       "      <td>-3.081769e-14</td>\n",
       "      <td>3.524860e-14</td>\n",
       "      <td>7.812983e-15</td>\n",
       "      <td>1.632655e-16</td>\n",
       "    </tr>\n",
       "    <tr>\n",
       "      <th>std</th>\n",
       "      <td>1.000005e+00</td>\n",
       "      <td>1.000005e+00</td>\n",
       "      <td>1.000005e+00</td>\n",
       "      <td>1.000005e+00</td>\n",
       "      <td>1.000005e+00</td>\n",
       "      <td>1.000005e+00</td>\n",
       "      <td>1.000005e+00</td>\n",
       "      <td>1.000005e+00</td>\n",
       "      <td>1.000005e+00</td>\n",
       "      <td>1.000005e+00</td>\n",
       "      <td>...</td>\n",
       "      <td>1.000005e+00</td>\n",
       "      <td>1.000005e+00</td>\n",
       "      <td>1.000005e+00</td>\n",
       "      <td>1.000005e+00</td>\n",
       "      <td>1.000005e+00</td>\n",
       "      <td>1.000005e+00</td>\n",
       "      <td>1.000005e+00</td>\n",
       "      <td>1.000005e+00</td>\n",
       "      <td>1.000005e+00</td>\n",
       "      <td>1.000005e+00</td>\n",
       "    </tr>\n",
       "    <tr>\n",
       "      <th>min</th>\n",
       "      <td>-2.544364e+00</td>\n",
       "      <td>-9.277976e-01</td>\n",
       "      <td>-1.551315e+00</td>\n",
       "      <td>-3.096665e+00</td>\n",
       "      <td>-2.176908e+00</td>\n",
       "      <td>-2.473339e+00</td>\n",
       "      <td>-1.242261e+00</td>\n",
       "      <td>-5.377573e-01</td>\n",
       "      <td>-5.780831e-01</td>\n",
       "      <td>-3.311756e+00</td>\n",
       "      <td>...</td>\n",
       "      <td>-9.874859e-01</td>\n",
       "      <td>-5.856560e+00</td>\n",
       "      <td>-2.038744e+00</td>\n",
       "      <td>-6.242728e-01</td>\n",
       "      <td>-1.578386e+00</td>\n",
       "      <td>-1.554868e+00</td>\n",
       "      <td>-2.898532e+00</td>\n",
       "      <td>-3.009802e+00</td>\n",
       "      <td>-9.704278e-01</td>\n",
       "      <td>-1.914986e+00</td>\n",
       "    </tr>\n",
       "    <tr>\n",
       "      <th>25%</th>\n",
       "      <td>-6.195682e-01</td>\n",
       "      <td>-5.751567e-01</td>\n",
       "      <td>-9.064324e-01</td>\n",
       "      <td>-3.981811e-01</td>\n",
       "      <td>-8.231863e-01</td>\n",
       "      <td>-8.659592e-01</td>\n",
       "      <td>-1.021061e+00</td>\n",
       "      <td>-5.377573e-01</td>\n",
       "      <td>-5.780831e-01</td>\n",
       "      <td>-5.090226e-01</td>\n",
       "      <td>...</td>\n",
       "      <td>-9.874859e-01</td>\n",
       "      <td>-6.195987e-01</td>\n",
       "      <td>-8.648314e-01</td>\n",
       "      <td>-3.833722e-01</td>\n",
       "      <td>-1.578386e+00</td>\n",
       "      <td>-5.062533e-01</td>\n",
       "      <td>-3.024850e-01</td>\n",
       "      <td>-5.511539e-01</td>\n",
       "      <td>-9.704278e-01</td>\n",
       "      <td>-6.007651e-01</td>\n",
       "    </tr>\n",
       "    <tr>\n",
       "      <th>50%</th>\n",
       "      <td>3.818965e-01</td>\n",
       "      <td>-5.751567e-01</td>\n",
       "      <td>-4.658831e-02</td>\n",
       "      <td>-3.981811e-01</td>\n",
       "      <td>-1.030837e-01</td>\n",
       "      <td>-7.519717e-02</td>\n",
       "      <td>-2.565884e-02</td>\n",
       "      <td>-5.377573e-01</td>\n",
       "      <td>-5.780831e-01</td>\n",
       "      <td>-1.086321e-01</td>\n",
       "      <td>...</td>\n",
       "      <td>3.912027e-01</td>\n",
       "      <td>-1.853141e-01</td>\n",
       "      <td>1.606554e-01</td>\n",
       "      <td>-2.629218e-01</td>\n",
       "      <td>3.193397e-01</td>\n",
       "      <td>1.805390e-02</td>\n",
       "      <td>-3.024850e-01</td>\n",
       "      <td>-5.511539e-01</td>\n",
       "      <td>4.377882e-01</td>\n",
       "      <td>-2.040191e-01</td>\n",
       "    </tr>\n",
       "    <tr>\n",
       "      <th>75%</th>\n",
       "      <td>8.335776e-01</td>\n",
       "      <td>1.540688e+00</td>\n",
       "      <td>7.211296e-01</td>\n",
       "      <td>5.013135e-01</td>\n",
       "      <td>8.305786e-01</td>\n",
       "      <td>7.134102e-01</td>\n",
       "      <td>8.591429e-01</td>\n",
       "      <td>9.685271e-01</td>\n",
       "      <td>1.017574e+00</td>\n",
       "      <td>6.921489e-01</td>\n",
       "      <td>...</td>\n",
       "      <td>3.912027e-01</td>\n",
       "      <td>4.022475e-01</td>\n",
       "      <td>7.003853e-01</td>\n",
       "      <td>3.820392e-02</td>\n",
       "      <td>6.506887e-01</td>\n",
       "      <td>5.423611e-01</td>\n",
       "      <td>5.628640e-01</td>\n",
       "      <td>6.781701e-01</td>\n",
       "      <td>4.377882e-01</td>\n",
       "      <td>3.663032e-01</td>\n",
       "    </tr>\n",
       "    <tr>\n",
       "      <th>max</th>\n",
       "      <td>1.102648e+00</td>\n",
       "      <td>1.540688e+00</td>\n",
       "      <td>1.857352e+00</td>\n",
       "      <td>2.300303e+00</td>\n",
       "      <td>3.680984e+00</td>\n",
       "      <td>6.860669e+00</td>\n",
       "      <td>3.955949e+00</td>\n",
       "      <td>1.151252e+01</td>\n",
       "      <td>7.400202e+00</td>\n",
       "      <td>1.030152e+01</td>\n",
       "      <td>...</td>\n",
       "      <td>3.347973e+01</td>\n",
       "      <td>7.836179e+00</td>\n",
       "      <td>2.616426e+00</td>\n",
       "      <td>2.262264e+01</td>\n",
       "      <td>1.433877e+00</td>\n",
       "      <td>9.455584e+00</td>\n",
       "      <td>4.889609e+00</td>\n",
       "      <td>8.054114e+00</td>\n",
       "      <td>1.733638e+01</td>\n",
       "      <td>7.606918e+00</td>\n",
       "    </tr>\n",
       "  </tbody>\n",
       "</table>\n",
       "<p>8 rows × 102 columns</p>\n",
       "</div>"
      ],
      "text/plain": [
       "         start_time    lobby_type       r1_hero      r1_level         r1_xp  \\\n",
       "count  9.723000e+04  9.723000e+04  9.723000e+04  9.723000e+04  9.723000e+04   \n",
       "mean  -1.196314e-14 -1.207810e-13 -7.771676e-16  3.483134e-15  1.749769e-16   \n",
       "std    1.000005e+00  1.000005e+00  1.000005e+00  1.000005e+00  1.000005e+00   \n",
       "min   -2.544364e+00 -9.277976e-01 -1.551315e+00 -3.096665e+00 -2.176908e+00   \n",
       "25%   -6.195682e-01 -5.751567e-01 -9.064324e-01 -3.981811e-01 -8.231863e-01   \n",
       "50%    3.818965e-01 -5.751567e-01 -4.658831e-02 -3.981811e-01 -1.030837e-01   \n",
       "75%    8.335776e-01  1.540688e+00  7.211296e-01  5.013135e-01  8.305786e-01   \n",
       "max    1.102648e+00  1.540688e+00  1.857352e+00  2.300303e+00  3.680984e+00   \n",
       "\n",
       "            r1_gold         r1_lh      r1_kills     r1_deaths      r1_items  \\\n",
       "count  9.723000e+04  9.723000e+04  9.723000e+04  9.723000e+04  9.723000e+04   \n",
       "mean   4.000126e-16  1.875506e-15  1.562528e-14 -1.285509e-14  1.675296e-15   \n",
       "std    1.000005e+00  1.000005e+00  1.000005e+00  1.000005e+00  1.000005e+00   \n",
       "min   -2.473339e+00 -1.242261e+00 -5.377573e-01 -5.780831e-01 -3.311756e+00   \n",
       "25%   -8.659592e-01 -1.021061e+00 -5.377573e-01 -5.780831e-01 -5.090226e-01   \n",
       "50%   -7.519717e-02 -2.565884e-02 -5.377573e-01 -5.780831e-01 -1.086321e-01   \n",
       "75%    7.134102e-01  8.591429e-01  9.685271e-01  1.017574e+00  6.921489e-01   \n",
       "max    6.860669e+00  3.955949e+00  1.151252e+01  7.400202e+00  1.030152e+01   \n",
       "\n",
       "               ...           radiant_ward_sentry_count  \\\n",
       "count          ...                        9.723000e+04   \n",
       "mean           ...                       -1.766165e-14   \n",
       "std            ...                        1.000005e+00   \n",
       "min            ...                       -9.874859e-01   \n",
       "25%            ...                       -9.874859e-01   \n",
       "50%            ...                        3.912027e-01   \n",
       "75%            ...                        3.912027e-01   \n",
       "max            ...                        3.347973e+01   \n",
       "\n",
       "       radiant_first_ward_time  dire_bottle_time  dire_courier_time  \\\n",
       "count             9.723000e+04      9.723000e+04       9.723000e+04   \n",
       "mean             -4.253560e-15      5.158146e-15      -6.090892e-16   \n",
       "std               1.000005e+00      1.000005e+00       1.000005e+00   \n",
       "min              -5.856560e+00     -2.038744e+00      -6.242728e-01   \n",
       "25%              -6.195987e-01     -8.648314e-01      -3.833722e-01   \n",
       "50%              -1.853141e-01      1.606554e-01      -2.629218e-01   \n",
       "75%               4.022475e-01      7.003853e-01       3.820392e-02   \n",
       "max               7.836179e+00      2.616426e+00       2.262264e+01   \n",
       "\n",
       "       dire_flying_courier_time  dire_tpscroll_count  dire_boots_count  \\\n",
       "count              9.723000e+04         9.723000e+04      9.723000e+04   \n",
       "mean              -1.830392e-14        -1.118102e-13     -3.081769e-14   \n",
       "std                1.000005e+00         1.000005e+00      1.000005e+00   \n",
       "min               -1.578386e+00        -1.554868e+00     -2.898532e+00   \n",
       "25%               -1.578386e+00        -5.062533e-01     -3.024850e-01   \n",
       "50%                3.193397e-01         1.805390e-02     -3.024850e-01   \n",
       "75%                6.506887e-01         5.423611e-01      5.628640e-01   \n",
       "max                1.433877e+00         9.455584e+00      4.889609e+00   \n",
       "\n",
       "       dire_ward_observer_count  dire_ward_sentry_count  dire_first_ward_time  \n",
       "count              9.723000e+04            9.723000e+04          9.723000e+04  \n",
       "mean               3.524860e-14            7.812983e-15          1.632655e-16  \n",
       "std                1.000005e+00            1.000005e+00          1.000005e+00  \n",
       "min               -3.009802e+00           -9.704278e-01         -1.914986e+00  \n",
       "25%               -5.511539e-01           -9.704278e-01         -6.007651e-01  \n",
       "50%               -5.511539e-01            4.377882e-01         -2.040191e-01  \n",
       "75%                6.781701e-01            4.377882e-01          3.663032e-01  \n",
       "max                8.054114e+00            1.733638e+01          7.606918e+00  \n",
       "\n",
       "[8 rows x 102 columns]"
      ]
     },
     "execution_count": 19,
     "metadata": {},
     "output_type": "execute_result"
    }
   ],
   "source": [
    "X.describe()"
   ]
  },
  {
   "cell_type": "code",
   "execution_count": null,
   "metadata": {
    "collapsed": true
   },
   "outputs": [],
   "source": []
  },
  {
   "cell_type": "code",
   "execution_count": 20,
   "metadata": {
    "collapsed": true
   },
   "outputs": [],
   "source": [
    "kfold = sklearn.cross_validation.KFold(len(X), n_folds=5, shuffle=True)"
   ]
  },
  {
   "cell_type": "code",
   "execution_count": 21,
   "metadata": {
    "collapsed": true
   },
   "outputs": [],
   "source": [
    "logistic_classifier = sklearn.linear_model.LogisticRegression(penalty='l2', verbose=1)"
   ]
  },
  {
   "cell_type": "code",
   "execution_count": 22,
   "metadata": {
    "collapsed": false
   },
   "outputs": [],
   "source": [
    "param_grid = dict(C=[0.001, 0.005, 0.01, 0.05, 0.1, 0.5, 1.0, 5.0, 10.0])\n",
    "\n",
    "grid_search = sklearn.grid_search.GridSearchCV(\n",
    "    logistic_classifier, param_grid=param_grid, scoring='roc_auc', cv=kfold, verbose=10)"
   ]
  },
  {
   "cell_type": "code",
   "execution_count": 350,
   "metadata": {
    "collapsed": false,
    "scrolled": true
   },
   "outputs": [
    {
     "name": "stdout",
     "output_type": "stream",
     "text": [
      "Fitting 5 folds for each of 9 candidates, totalling 45 fits\n",
      "[CV] C=0.001 .........................................................\n",
      "[LibLinear][CV] ................................ C=0.001, score=0.718567 -  10.4s\n",
      "[CV] C=0.001 .........................................................\n",
      "[LibLinear][CV] ................................ C=0.001, score=0.713360 -   9.8s\n",
      "[CV] C=0.001 .........................................................\n",
      "[LibLinear][CV] ................................ C=0.001, score=0.716188 -  10.2s\n",
      "[CV] C=0.001 .........................................................\n",
      "[LibLinear][CV] ................................ C=0.001, score=0.715365 -   9.5s"
     ]
    },
    {
     "name": "stderr",
     "output_type": "stream",
     "text": [
      "[Parallel(n_jobs=1)]: Done   1 tasks       | elapsed:   10.4s\n",
      "[Parallel(n_jobs=1)]: Done   4 tasks       | elapsed:   40.2s\n"
     ]
    },
    {
     "name": "stdout",
     "output_type": "stream",
     "text": [
      "\n",
      "[CV] C=0.001 .........................................................\n",
      "[LibLinear][CV] ................................ C=0.001, score=0.718084 -  10.4s\n",
      "[CV] C=0.005 .........................................................\n",
      "[LibLinear][CV] ................................ C=0.005, score=0.718990 -  12.8s\n",
      "[CV] C=0.005 .........................................................\n",
      "[LibLinear][CV] ................................ C=0.005, score=0.713292 -  13.0s\n",
      "[CV] C=0.005 .........................................................\n",
      "[LibLinear][CV] ................................ C=0.005, score=0.716202 -   9.3s\n",
      "[CV] C=0.005 .........................................................\n",
      "[LibLinear][CV] ................................ C=0.005, score=0.715651 -  12.9s\n",
      "[CV] C=0.005 .........................................................\n",
      "[LibLinear][CV] ................................ C=0.005, score=0.718395 -  13.3s\n",
      "[CV] C=0.01 ..........................................................\n",
      "[LibLinear][CV] ................................. C=0.01, score=0.719016 -  13.0s\n",
      "[CV] C=0.01 ..........................................................\n",
      "[LibLinear][CV] ................................. C=0.01, score=0.713234 -  14.1s"
     ]
    },
    {
     "name": "stderr",
     "output_type": "stream",
     "text": [
      "[Parallel(n_jobs=1)]: Done   7 tasks       | elapsed:  1.3min\n",
      "[Parallel(n_jobs=1)]: Done  12 tasks       | elapsed:  2.3min\n"
     ]
    },
    {
     "name": "stdout",
     "output_type": "stream",
     "text": [
      "\n",
      "[CV] C=0.01 ..........................................................\n",
      "[LibLinear][CV] ................................. C=0.01, score=0.716150 -  13.2s\n",
      "[CV] C=0.01 ..........................................................\n",
      "[LibLinear][CV] ................................. C=0.01, score=0.715664 -  13.1s\n",
      "[CV] C=0.01 ..........................................................\n",
      "[LibLinear][CV] ................................. C=0.01, score=0.718398 -  13.5s\n",
      "[CV] C=0.05 ..........................................................\n",
      "[LibLinear][CV] ................................. C=0.05, score=0.719033 -  13.9s\n",
      "[CV] C=0.05 ..........................................................\n",
      "[LibLinear][CV] ................................. C=0.05, score=0.713182 -  14.2s\n",
      "[CV] C=0.05 ..........................................................\n",
      "[LibLinear][CV] ................................. C=0.05, score=0.716106 -  13.5s\n",
      "[CV] C=0.05 ..........................................................\n",
      "[LibLinear][CV] ................................. C=0.05, score=0.715669 -  13.3s\n",
      "[CV] C=0.05 ..........................................................\n",
      "[LibLinear][CV] ................................. C=0.05, score=0.718381 -  13.8s\n",
      "[CV] C=0.1 ...........................................................\n",
      "[LibLinear][CV] .................................. C=0.1, score=0.719036 -  13.9s\n",
      "[CV] C=0.1 ...........................................................\n",
      "[LibLinear][CV] .................................. C=0.1, score=0.713175 -  14.3s\n",
      "[CV] C=0.1 ...........................................................\n",
      "[LibLinear][CV] .................................. C=0.1, score=0.716097 -  14.1s\n",
      "[CV] C=0.1 ...........................................................\n",
      "[LibLinear][CV] .................................. C=0.1, score=0.715666 -  13.7s"
     ]
    },
    {
     "name": "stderr",
     "output_type": "stream",
     "text": [
      "[Parallel(n_jobs=1)]: Done  17 tasks       | elapsed:  3.5min\n",
      "[Parallel(n_jobs=1)]: Done  24 tasks       | elapsed:  5.1min\n"
     ]
    },
    {
     "name": "stdout",
     "output_type": "stream",
     "text": [
      "\n",
      "[CV] C=0.1 ...........................................................\n",
      "[LibLinear][CV] .................................. C=0.1, score=0.718380 -  17.2s\n",
      "[CV] C=0.5 ...........................................................\n",
      "[LibLinear][CV] .................................. C=0.5, score=0.719035 -  17.4s\n",
      "[CV] C=0.5 ...........................................................\n",
      "[LibLinear][CV] .................................. C=0.5, score=0.713168 -  17.9s\n",
      "[CV] C=0.5 ...........................................................\n",
      "[LibLinear][CV] .................................. C=0.5, score=0.716092 -  14.5s\n",
      "[CV] C=0.5 ...........................................................\n",
      "[LibLinear][CV] .................................. C=0.5, score=0.715664 -  14.1s\n",
      "[CV] C=0.5 ...........................................................\n",
      "[LibLinear][CV] .................................. C=0.5, score=0.718377 -  14.4s\n",
      "[CV] C=1.0 ...........................................................\n",
      "[LibLinear][CV] .................................. C=1.0, score=0.719036 -  13.8s\n",
      "[CV] C=1.0 ...........................................................\n",
      "[LibLinear][CV] .................................. C=1.0, score=0.713167 -  15.0s\n",
      "[CV] C=1.0 ...........................................................\n",
      "[LibLinear][CV] .................................. C=1.0, score=0.716091 -  14.1s\n",
      "[CV] C=1.0 ...........................................................\n",
      "[LibLinear][CV] .................................. C=1.0, score=0.715664 -  14.3s\n",
      "[CV] C=1.0 ...........................................................\n",
      "[LibLinear][CV] .................................. C=1.0, score=0.718377 -  14.1s\n",
      "[CV] C=5.0 ...........................................................\n",
      "[LibLinear][CV] .................................. C=5.0, score=0.719036 -  14.0s\n",
      "[CV] C=5.0 ...........................................................\n",
      "[LibLinear][CV] .................................. C=5.0, score=0.713166 -  15.0s\n",
      "[CV] C=5.0 ...........................................................\n",
      "[LibLinear][CV] .................................. C=5.0, score=0.716092 -  14.1s\n",
      "[CV] C=5.0 ...........................................................\n",
      "[LibLinear][CV] .................................. C=5.0, score=0.715665 -  14.2s\n",
      "[CV] C=5.0 ...........................................................\n",
      "[LibLinear][CV] .................................. C=5.0, score=0.718377 -  13.9s"
     ]
    },
    {
     "name": "stderr",
     "output_type": "stream",
     "text": [
      "[Parallel(n_jobs=1)]: Done  31 tasks       | elapsed:  6.9min\n",
      "[Parallel(n_jobs=1)]: Done  40 tasks       | elapsed:  9.1min\n"
     ]
    },
    {
     "name": "stdout",
     "output_type": "stream",
     "text": [
      "\n",
      "[CV] C=10.0 ..........................................................\n",
      "[LibLinear][CV] ................................. C=10.0, score=0.719036 -  13.9s\n",
      "[CV] C=10.0 ..........................................................\n",
      "[LibLinear][CV] ................................. C=10.0, score=0.713167 -  15.0s\n",
      "[CV] C=10.0 ..........................................................\n",
      "[LibLinear][CV] ................................. C=10.0, score=0.716091 -  14.1s\n",
      "[CV] C=10.0 ..........................................................\n",
      "[LibLinear][CV] ................................. C=10.0, score=0.715665 -  14.2s\n",
      "[CV] C=10.0 ..........................................................\n",
      "[LibLinear][CV] ................................. C=10.0, score=0.718377 -  13.8s\n",
      "[LibLinear]"
     ]
    },
    {
     "name": "stderr",
     "output_type": "stream",
     "text": [
      "[Parallel(n_jobs=1)]: Done  45 out of  45 | elapsed: 10.3min finished\n"
     ]
    },
    {
     "data": {
      "text/plain": [
       "GridSearchCV(cv=sklearn.cross_validation.KFold(n=97230, n_folds=5, shuffle=True, random_state=None),\n",
       "       error_score='raise',\n",
       "       estimator=LogisticRegression(C=1.0, class_weight=None, dual=False, fit_intercept=True,\n",
       "          intercept_scaling=1, max_iter=100, multi_class='ovr', n_jobs=1,\n",
       "          penalty='l2', random_state=None, solver='liblinear', tol=0.0001,\n",
       "          verbose=1, warm_start=False),\n",
       "       fit_params={}, iid=True, n_jobs=1,\n",
       "       param_grid={'C': [0.001, 0.005, 0.01, 0.05, 0.1, 0.5, 1.0, 5.0, 10.0]},\n",
       "       pre_dispatch='2*n_jobs', refit=True, scoring='roc_auc', verbose=10)"
      ]
     },
     "execution_count": 350,
     "metadata": {},
     "output_type": "execute_result"
    }
   ],
   "source": [
    "tic = time.time()\n",
    "\n",
    "grid_search.fit(X, y)\n",
    "\n",
    "toc = time.time()"
   ]
  },
  {
   "cell_type": "code",
   "execution_count": 356,
   "metadata": {
    "collapsed": false
   },
   "outputs": [
    {
     "name": "stdout",
     "output_type": "stream",
     "text": [
      "Elapsed time:  10.33 min.\n"
     ]
    }
   ],
   "source": [
    "print(\"Elapsed time: \", \"{:.2f} min.\".format((toc-tic)/60))"
   ]
  },
  {
   "cell_type": "code",
   "execution_count": 351,
   "metadata": {
    "collapsed": false
   },
   "outputs": [
    {
     "data": {
      "text/plain": [
       "[mean: 0.71631, std: 0.00189, params: {'C': 0.001},\n",
       " mean: 0.71651, std: 0.00204, params: {'C': 0.005},\n",
       " mean: 0.71649, std: 0.00207, params: {'C': 0.01},\n",
       " mean: 0.71647, std: 0.00209, params: {'C': 0.05},\n",
       " mean: 0.71647, std: 0.00209, params: {'C': 0.1},\n",
       " mean: 0.71647, std: 0.00209, params: {'C': 0.5},\n",
       " mean: 0.71647, std: 0.00209, params: {'C': 1.0},\n",
       " mean: 0.71647, std: 0.00209, params: {'C': 5.0},\n",
       " mean: 0.71647, std: 0.00209, params: {'C': 10.0}]"
      ]
     },
     "execution_count": 351,
     "metadata": {},
     "output_type": "execute_result"
    }
   ],
   "source": [
    "grid_search.grid_scores_"
   ]
  },
  {
   "cell_type": "code",
   "execution_count": 352,
   "metadata": {
    "collapsed": false
   },
   "outputs": [
    {
     "data": {
      "text/plain": [
       "{'C': 0.005}"
      ]
     },
     "execution_count": 352,
     "metadata": {},
     "output_type": "execute_result"
    }
   ],
   "source": [
    "grid_search.best_params_"
   ]
  },
  {
   "cell_type": "code",
   "execution_count": 353,
   "metadata": {
    "collapsed": false
   },
   "outputs": [
    {
     "data": {
      "text/plain": [
       "0.71650590821237004"
      ]
     },
     "execution_count": 353,
     "metadata": {},
     "output_type": "execute_result"
    }
   ],
   "source": [
    "grid_search.best_score_"
   ]
  },
  {
   "cell_type": "code",
   "execution_count": null,
   "metadata": {
    "collapsed": true
   },
   "outputs": [],
   "source": []
  },
  {
   "cell_type": "markdown",
   "metadata": {},
   "source": [
    "** 2.Среди признаков в выборке есть категориальные, которые мы использовали как числовые, что вряд ли является хорошей идеей. Категориальных признаков в этой задаче одиннадцать: `lobby_type` и `r1_hero`, `r2_hero`, ..., `r5_hero`, `d1_hero`, `d2_hero`, ..., `d5_hero`. Уберите их из выборки, и проведите кросс-валидацию для логистической регрессии на новой выборке с подбором лучшего параметра регуляризации. Изменилось ли качество? Чем вы можете это объяснить?  **"
   ]
  },
  {
   "cell_type": "code",
   "execution_count": 23,
   "metadata": {
    "collapsed": false
   },
   "outputs": [
    {
     "data": {
      "text/plain": [
       "Index(['r1_hero', 'r2_hero', 'r3_hero', 'r4_hero', 'r5_hero', 'd1_hero',\n",
       "       'd2_hero', 'd3_hero', 'd4_hero', 'd5_hero'],\n",
       "      dtype='object')"
      ]
     },
     "execution_count": 23,
     "metadata": {},
     "output_type": "execute_result"
    }
   ],
   "source": [
    "heroes = X.columns[ X.columns.str.find('_hero')!=-1 ]\n",
    "heroes"
   ]
  },
  {
   "cell_type": "code",
   "execution_count": 24,
   "metadata": {
    "collapsed": false
   },
   "outputs": [],
   "source": [
    "X_woCateg = X.drop(['lobby_type', *heroes], axis=1)"
   ]
  },
  {
   "cell_type": "code",
   "execution_count": 25,
   "metadata": {
    "collapsed": false
   },
   "outputs": [
    {
     "data": {
      "text/plain": [
       "(97230, 91)"
      ]
     },
     "execution_count": 25,
     "metadata": {},
     "output_type": "execute_result"
    }
   ],
   "source": [
    "np.shape(X_woCateg)"
   ]
  },
  {
   "cell_type": "code",
   "execution_count": null,
   "metadata": {
    "collapsed": true
   },
   "outputs": [],
   "source": []
  },
  {
   "cell_type": "code",
   "execution_count": 376,
   "metadata": {
    "collapsed": false,
    "scrolled": true
   },
   "outputs": [
    {
     "name": "stdout",
     "output_type": "stream",
     "text": [
      "Fitting 5 folds for each of 9 candidates, totalling 45 fits\n",
      "[CV] C=0.001 .........................................................\n",
      "[LibLinear][CV] ................................ C=0.001, score=0.718625 -  12.1s\n",
      "[CV] C=0.001 .........................................................\n",
      "[LibLinear][CV] ................................ C=0.001, score=0.713448 -  11.2s\n",
      "[CV] C=0.001 .........................................................\n",
      "[LibLinear][CV] ................................ C=0.001, score=0.716086 -  10.4s\n",
      "[CV] C=0.001 .........................................................\n",
      "[LibLinear][CV] ................................ C=0.001, score=0.715361 -  10.2s"
     ]
    },
    {
     "name": "stderr",
     "output_type": "stream",
     "text": [
      "[Parallel(n_jobs=1)]: Done   1 tasks       | elapsed:   12.1s\n",
      "[Parallel(n_jobs=1)]: Done   4 tasks       | elapsed:   44.3s\n"
     ]
    },
    {
     "name": "stdout",
     "output_type": "stream",
     "text": [
      "\n",
      "[CV] C=0.001 .........................................................\n",
      "[LibLinear][CV] ................................ C=0.001, score=0.718293 -  11.5s\n",
      "[CV] C=0.005 .........................................................\n",
      "[LibLinear][CV] ................................ C=0.005, score=0.719045 -  13.9s\n",
      "[CV] C=0.005 .........................................................\n",
      "[LibLinear][CV] ................................ C=0.005, score=0.713368 -  12.5s\n",
      "[CV] C=0.005 .........................................................\n",
      "[LibLinear][CV] ................................ C=0.005, score=0.716127 -   9.3s\n",
      "[CV] C=0.005 .........................................................\n",
      "[LibLinear][CV] ................................ C=0.005, score=0.715659 -  10.8s\n",
      "[CV] C=0.005 .........................................................\n",
      "[LibLinear][CV] ................................ C=0.005, score=0.718611 -  13.6s\n",
      "[CV] C=0.01 ..........................................................\n",
      "[LibLinear][CV] ................................. C=0.01, score=0.719067 -  13.7s\n",
      "[CV] C=0.01 ..........................................................\n",
      "[LibLinear][CV] ................................. C=0.01, score=0.713315 -  13.5s"
     ]
    },
    {
     "name": "stderr",
     "output_type": "stream",
     "text": [
      "[Parallel(n_jobs=1)]: Done   7 tasks       | elapsed:  1.4min\n",
      "[Parallel(n_jobs=1)]: Done  12 tasks       | elapsed:  2.4min\n"
     ]
    },
    {
     "name": "stdout",
     "output_type": "stream",
     "text": [
      "\n",
      "[CV] C=0.01 ..........................................................\n",
      "[LibLinear][CV] ................................. C=0.01, score=0.716092 -  13.0s\n",
      "[CV] C=0.01 ..........................................................\n",
      "[LibLinear][CV] ................................. C=0.01, score=0.715661 -  12.2s\n",
      "[CV] C=0.01 ..........................................................\n",
      "[LibLinear][CV] ................................. C=0.01, score=0.718610 -  12.6s\n",
      "[CV] C=0.05 ..........................................................\n",
      "[LibLinear][CV] ................................. C=0.05, score=0.719079 -  12.7s\n",
      "[CV] C=0.05 ..........................................................\n",
      "[LibLinear][CV] ................................. C=0.05, score=0.713261 -  12.7s\n",
      "[CV] C=0.05 ..........................................................\n",
      "[LibLinear][CV] ................................. C=0.05, score=0.716046 -  12.5s\n",
      "[CV] C=0.05 ..........................................................\n",
      "[LibLinear][CV] ................................. C=0.05, score=0.715654 -  13.3s\n",
      "[CV] C=0.05 ..........................................................\n",
      "[LibLinear][CV] ................................. C=0.05, score=0.718592 -  14.1s\n",
      "[CV] C=0.1 ...........................................................\n",
      "[LibLinear][CV] .................................. C=0.1, score=0.719080 -  14.0s\n",
      "[CV] C=0.1 ...........................................................\n",
      "[LibLinear][CV] .................................. C=0.1, score=0.713255 -  14.1s\n",
      "[CV] C=0.1 ...........................................................\n",
      "[LibLinear][CV] .................................. C=0.1, score=0.716037 -  12.6s\n",
      "[CV] C=0.1 ...........................................................\n",
      "[LibLinear][CV] .................................. C=0.1, score=0.715652 -  13.8s"
     ]
    },
    {
     "name": "stderr",
     "output_type": "stream",
     "text": [
      "[Parallel(n_jobs=1)]: Done  17 tasks       | elapsed:  3.5min\n",
      "[Parallel(n_jobs=1)]: Done  24 tasks       | elapsed:  5.1min\n"
     ]
    },
    {
     "name": "stdout",
     "output_type": "stream",
     "text": [
      "\n",
      "[CV] C=0.1 ...........................................................\n",
      "[LibLinear][CV] .................................. C=0.1, score=0.718589 -  12.4s\n",
      "[CV] C=0.5 ...........................................................\n",
      "[LibLinear][CV] .................................. C=0.5, score=0.719077 -  12.4s\n",
      "[CV] C=0.5 ...........................................................\n",
      "[LibLinear][CV] .................................. C=0.5, score=0.713245 -  13.2s\n",
      "[CV] C=0.5 ...........................................................\n",
      "[LibLinear][CV] .................................. C=0.5, score=0.716027 -  13.0s\n",
      "[CV] C=0.5 ...........................................................\n",
      "[LibLinear][CV] .................................. C=0.5, score=0.715651 -  12.8s\n",
      "[CV] C=0.5 ...........................................................\n",
      "[LibLinear][CV] .................................. C=0.5, score=0.718586 -  12.6s\n",
      "[CV] C=1.0 ...........................................................\n",
      "[LibLinear][CV] .................................. C=1.0, score=0.719077 -  12.4s\n",
      "[CV] C=1.0 ...........................................................\n",
      "[LibLinear][CV] .................................. C=1.0, score=0.713245 -  13.2s\n",
      "[CV] C=1.0 ...........................................................\n",
      "[LibLinear][CV] .................................. C=1.0, score=0.716027 -  13.3s\n",
      "[CV] C=1.0 ...........................................................\n",
      "[LibLinear][CV] .................................. C=1.0, score=0.715650 -  12.9s\n",
      "[CV] C=1.0 ...........................................................\n",
      "[LibLinear][CV] .................................. C=1.0, score=0.718585 -  12.7s\n",
      "[CV] C=5.0 ...........................................................\n",
      "[LibLinear][CV] .................................. C=5.0, score=0.719076 -  12.4s\n",
      "[CV] C=5.0 ...........................................................\n",
      "[LibLinear][CV] .................................. C=5.0, score=0.713244 -  13.2s\n",
      "[CV] C=5.0 ...........................................................\n",
      "[LibLinear][CV] .................................. C=5.0, score=0.716027 -  13.0s\n",
      "[CV] C=5.0 ...........................................................\n",
      "[LibLinear][CV] .................................. C=5.0, score=0.715650 -  13.5s\n",
      "[CV] C=5.0 ...........................................................\n",
      "[LibLinear][CV] .................................. C=5.0, score=0.718584 -  13.3s"
     ]
    },
    {
     "name": "stderr",
     "output_type": "stream",
     "text": [
      "[Parallel(n_jobs=1)]: Done  31 tasks       | elapsed:  6.6min\n",
      "[Parallel(n_jobs=1)]: Done  40 tasks       | elapsed:  8.5min\n"
     ]
    },
    {
     "name": "stdout",
     "output_type": "stream",
     "text": [
      "\n",
      "[CV] C=10.0 ..........................................................\n",
      "[LibLinear][CV] ................................. C=10.0, score=0.719076 -  12.6s\n",
      "[CV] C=10.0 ..........................................................\n",
      "[LibLinear][CV] ................................. C=10.0, score=0.713244 -  13.4s\n",
      "[CV] C=10.0 ..........................................................\n",
      "[LibLinear][CV] ................................. C=10.0, score=0.716027 -  13.7s\n",
      "[CV] C=10.0 ..........................................................\n",
      "[LibLinear][CV] ................................. C=10.0, score=0.715650 -  14.2s\n",
      "[CV] C=10.0 ..........................................................\n",
      "[LibLinear][CV] ................................. C=10.0, score=0.718584 -  12.8s\n",
      "[LibLinear]"
     ]
    },
    {
     "name": "stderr",
     "output_type": "stream",
     "text": [
      "[Parallel(n_jobs=1)]: Done  45 out of  45 | elapsed:  9.7min finished\n"
     ]
    }
   ],
   "source": [
    "tic = time.time()\n",
    "\n",
    "grid_search.fit(X_woCateg, y)\n",
    "\n",
    "toc = time.time()"
   ]
  },
  {
   "cell_type": "code",
   "execution_count": 393,
   "metadata": {
    "collapsed": false,
    "scrolled": true
   },
   "outputs": [
    {
     "name": "stdout",
     "output_type": "stream",
     "text": [
      "Elapsed time:  9.93 min.\n"
     ]
    }
   ],
   "source": [
    "print(\"Elapsed time: \", \"{:.2f} min.\".format((toc-tic)/60))"
   ]
  },
  {
   "cell_type": "code",
   "execution_count": 394,
   "metadata": {
    "collapsed": false
   },
   "outputs": [
    {
     "data": {
      "text/plain": [
       "[mean: 0.71636, std: 0.00192, params: {'C': 0.001},\n",
       " mean: 0.71656, std: 0.00208, params: {'C': 0.005},\n",
       " mean: 0.71655, std: 0.00210, params: {'C': 0.01},\n",
       " mean: 0.71653, std: 0.00212, params: {'C': 0.05},\n",
       " mean: 0.71652, std: 0.00212, params: {'C': 0.1},\n",
       " mean: 0.71652, std: 0.00212, params: {'C': 0.5},\n",
       " mean: 0.71652, std: 0.00212, params: {'C': 1.0},\n",
       " mean: 0.71652, std: 0.00212, params: {'C': 5.0},\n",
       " mean: 0.71652, std: 0.00212, params: {'C': 10.0}]"
      ]
     },
     "execution_count": 394,
     "metadata": {},
     "output_type": "execute_result"
    }
   ],
   "source": [
    "grid_search.grid_scores_"
   ]
  },
  {
   "cell_type": "code",
   "execution_count": 395,
   "metadata": {
    "collapsed": false
   },
   "outputs": [
    {
     "data": {
      "text/plain": [
       "({'C': 0.005}, 0.71656199614726124)"
      ]
     },
     "execution_count": 395,
     "metadata": {},
     "output_type": "execute_result"
    }
   ],
   "source": [
    "grid_search.best_params_, grid_search.best_score_"
   ]
  },
  {
   "cell_type": "code",
   "execution_count": null,
   "metadata": {
    "collapsed": true
   },
   "outputs": [],
   "source": []
  },
  {
   "cell_type": "markdown",
   "metadata": {},
   "source": [
    "** 3.На предыдущем шаге мы исключили из выборки признаки `rM_hero` и `dM_hero`, которые показывают, какие именно герои играли за каждую команду. Это важные признаки — герои имеют разные характеристики, и некоторые из них выигрывают чаще, чем другие. Выясните из данных, сколько различных идентификаторов героев существует в данной игре (вам может пригодиться фукнция `unique` или `value_counts`). **"
   ]
  },
  {
   "cell_type": "code",
   "execution_count": 26,
   "metadata": {
    "collapsed": false
   },
   "outputs": [
    {
     "data": {
      "text/plain": [
       "(array([ 11,  42,  33,  29,  13,   8,  35,  17,  15,  22,  27,  68,  26,\n",
       "         53,  20,  92,  88, 104,   3,  73,  72, 110,  36,  58,  91,  50,\n",
       "         71,  30,  25,  39,  19, 101,  94,  51,   7,  75,  46,  66,  67,\n",
       "         93,  38,  65,  12,  99,  44,  10,  41,  34, 102,  32,  95,  84,\n",
       "         81,  16,   6,  96,  43,  79,  47,   1,   2,  63,  97,  80,  54,\n",
       "         83,   5,  60,  77, 112,  21,  69,  85,  82,  87,  62,  18,  74,\n",
       "         28,  61,  14,  90,  70,  78,  52,  48,  49,   4,  98,  59,  56,\n",
       "         86,  37, 100,  23,  57, 106,  40,   9,  76,  31,  64, 109, 103,\n",
       "         55, 105,  89,  45], dtype=int64), (108,))"
      ]
     },
     "execution_count": 26,
     "metadata": {},
     "output_type": "execute_result"
    }
   ],
   "source": [
    "data.r1_hero.unique(), np.shape(data.r1_hero.unique())"
   ]
  },
  {
   "cell_type": "code",
   "execution_count": 27,
   "metadata": {
    "collapsed": false,
    "scrolled": true
   },
   "outputs": [
    {
     "data": {
      "text/plain": [
       "11     5045\n",
       "7      3899\n",
       "72     3551\n",
       "39     3341\n",
       "112    3119\n",
       "50     3006\n",
       "100    2623\n",
       "21     2533\n",
       "25     2385\n",
       "71     2349\n",
       "55     2235\n",
       "106    2128\n",
       "85     1965\n",
       "30     1845\n",
       "8      1748\n",
       "28     1688\n",
       "51     1635\n",
       "86     1595\n",
       "26     1584\n",
       "87     1542\n",
       "68     1511\n",
       "60     1479\n",
       "74     1379\n",
       "46     1343\n",
       "47     1313\n",
       "75     1301\n",
       "73     1225\n",
       "1      1199\n",
       "42     1079\n",
       "3      1058\n",
       "       ... \n",
       "61      318\n",
       "9       315\n",
       "34      306\n",
       "79      305\n",
       "16      295\n",
       "98      286\n",
       "43      279\n",
       "54      266\n",
       "23      259\n",
       "90      238\n",
       "35      238\n",
       "63      232\n",
       "92      231\n",
       "65      217\n",
       "45      214\n",
       "76      213\n",
       "82      212\n",
       "95      199\n",
       "32      193\n",
       "83      169\n",
       "53      167\n",
       "105     159\n",
       "10      157\n",
       "78      156\n",
       "77      130\n",
       "66      108\n",
       "80       88\n",
       "103      75\n",
       "58       69\n",
       "109      20\n",
       "Name: r1_hero, dtype: int64"
      ]
     },
     "execution_count": 27,
     "metadata": {},
     "output_type": "execute_result"
    }
   ],
   "source": [
    "data.r1_hero.value_counts()"
   ]
  },
  {
   "cell_type": "code",
   "execution_count": 28,
   "metadata": {
    "collapsed": false,
    "scrolled": true
   },
   "outputs": [
    {
     "data": {
      "text/plain": [
       "(array([ 11,  67,  29,  20, 105,   4,  42,  21,  37,  84,  49,  26,  39,\n",
       "         88,  79,   7,  12,  33,  98,  27,  22,  66,  86,  80,  30,  75,\n",
       "         41,  96,  48,  15, 102,  13,  72,  93,  69,  25,   8,  28,  65,\n",
       "         55,  52,   3,  73,  57,  36, 101,  47,  35,  83, 100,  44,  17,\n",
       "         91,  53,  90,  19,  74,  76,  99,   1,  94,  82,  60, 112,  31,\n",
       "         85,  61,  70,  68,  51,   2,  50,  71,  23,  77,  16,  63,  92,\n",
       "         81,  18,  59,  95,  64,  58,  43, 104,  40,  87,  10,  14, 110,\n",
       "         38,  46,  54,  97,  89,   5,  62,   6,  78, 106,  34,  56, 103,\n",
       "        109,  45,   9,  32], dtype=int64), 108, 112)"
      ]
     },
     "execution_count": 28,
     "metadata": {},
     "output_type": "execute_result"
    }
   ],
   "source": [
    "unique_heroes = pd.Series( data[[*heroes]].values.flatten() ).unique()\n",
    "\n",
    "num_unique_heroes = len(unique_heroes)\n",
    "N_heroes = max(unique_heroes)\n",
    "\n",
    "unique_heroes, num_unique_heroes, N_heroes"
   ]
  },
  {
   "cell_type": "code",
   "execution_count": null,
   "metadata": {
    "collapsed": false
   },
   "outputs": [],
   "source": []
  },
  {
   "cell_type": "markdown",
   "metadata": {},
   "source": [
    "** 4.Воспользуемся подходом \"мешок слов\" для кодирования информации о героях. Пусть всего в игре имеет `N` различных героев. Сформируем `N` признаков, при этом `i`-й будет равен нулю, если `i`-й герой не участвовал в матче; единице, если `i`-й герой играл за команду Radiant; минус единице, если `i`-й герой играл за команду Dire. Ниже вы можете найти код, который выполняет данной преобразование. Добавьте полученные признаки к числовым, которые вы использовали во втором пункте данного этапа. **"
   ]
  },
  {
   "cell_type": "code",
   "execution_count": 29,
   "metadata": {
    "collapsed": false
   },
   "outputs": [],
   "source": [
    "# Код для формирования \"мешка слов\" по героям\n",
    "# N — количество различных героев в выборке\n",
    "data_heroes = data[[*heroes]]\n",
    "\n",
    "X_pick = np.zeros((data_heroes.shape[0], N_heroes))\n",
    "\n",
    "for i, match_id in enumerate(data_heroes.index):\n",
    "    for p in range(5):\n",
    "        X_pick[i, data_heroes.ix[match_id, 'r%d_hero' % (p+1)]-1] = 1\n",
    "        X_pick[i, data_heroes.ix[match_id, 'd%d_hero' % (p+1)]-1] = -1"
   ]
  },
  {
   "cell_type": "code",
   "execution_count": 30,
   "metadata": {
    "collapsed": false
   },
   "outputs": [
    {
     "data": {
      "text/plain": [
       "((97230, 10), (97230, 112))"
      ]
     },
     "execution_count": 30,
     "metadata": {},
     "output_type": "execute_result"
    }
   ],
   "source": [
    "np.shape(data_heroes), np.shape(X_pick)"
   ]
  },
  {
   "cell_type": "code",
   "execution_count": 31,
   "metadata": {
    "collapsed": false
   },
   "outputs": [
    {
     "data": {
      "text/plain": [
       "(array([ 0.,  0.,  0., -1.,  0.,  0.,  0.,  0.,  0.,  0.,  1.,  0.,  0.,\n",
       "         0.,  0.,  0.,  0.,  0.,  0.,  1., -1.,  0.,  0.,  0.,  0.,  0.,\n",
       "         0.,  0.,  1.,  0.,  0.,  0.,  0.,  0.,  0.,  0., -1.,  0.,  0.,\n",
       "         0.,  0., -1.,  0.,  0.,  0.,  0.,  0.,  0.,  0.,  0.,  0.,  0.,\n",
       "         0.,  0.,  0.,  0.,  0.,  0.,  0.,  0.,  0.,  0.,  0.,  0.,  0.,\n",
       "         0.,  1.,  0.,  0.,  0.,  0.,  0.,  0.,  0.,  0.,  0.,  0.,  0.,\n",
       "         0.,  0.,  0.,  0.,  0., -1.,  0.,  0.,  0.,  0.,  0.,  0.,  0.,\n",
       "         0.,  0.,  0.,  0.,  0.,  0.,  0.,  0.,  0.,  0.,  0.,  0.,  0.,\n",
       "         1.,  0.,  0.,  0.,  0.,  0.,  0.,  0.]), 5, 5)"
      ]
     },
     "execution_count": 31,
     "metadata": {},
     "output_type": "execute_result"
    }
   ],
   "source": [
    "X_pick[0], np.sum(X_pick[0]==1), np.sum(X_pick[0]==-1)"
   ]
  },
  {
   "cell_type": "code",
   "execution_count": 32,
   "metadata": {
    "collapsed": false
   },
   "outputs": [],
   "source": [
    "X_wBag = pd.concat([ X_woCateg, pd.DataFrame(X_pick, index=X_woCateg.index)], axis=1)"
   ]
  },
  {
   "cell_type": "code",
   "execution_count": 33,
   "metadata": {
    "collapsed": false
   },
   "outputs": [
    {
     "data": {
      "text/plain": [
       "(97230, 203)"
      ]
     },
     "execution_count": 33,
     "metadata": {},
     "output_type": "execute_result"
    }
   ],
   "source": [
    "np.shape(X_wBag)"
   ]
  },
  {
   "cell_type": "code",
   "execution_count": null,
   "metadata": {
    "collapsed": true
   },
   "outputs": [],
   "source": []
  },
  {
   "cell_type": "markdown",
   "metadata": {},
   "source": [
    "** 5.Проведите кросс-валидацию для логистической регрессии на новой выборке с подбором лучшего параметра регуляризации. Какое получилось качество? Улучшилось ли оно? Чем вы можете это объяснить? **"
   ]
  },
  {
   "cell_type": "code",
   "execution_count": 64,
   "metadata": {
    "collapsed": false,
    "scrolled": true
   },
   "outputs": [
    {
     "name": "stdout",
     "output_type": "stream",
     "text": [
      "Fitting 5 folds for each of 9 candidates, totalling 45 fits\n",
      "[CV] C=0.001 .........................................................\n",
      "[LibLinear][CV] ................................ C=0.001, score=0.746154 -  15.4s\n",
      "[CV] C=0.001 .........................................................\n",
      "[LibLinear][CV] ................................ C=0.001, score=0.752095 -  13.1s\n",
      "[CV] C=0.001 .........................................................\n",
      "[LibLinear][CV] ................................ C=0.001, score=0.743552 -  12.4s\n",
      "[CV] C=0.001 .........................................................\n",
      "[LibLinear][CV] ................................ C=0.001, score=0.743085 -  15.0s"
     ]
    },
    {
     "name": "stderr",
     "output_type": "stream",
     "text": [
      "[Parallel(n_jobs=1)]: Done   1 tasks       | elapsed:   15.4s\n",
      "[Parallel(n_jobs=1)]: Done   4 tasks       | elapsed:   56.4s\n"
     ]
    },
    {
     "name": "stdout",
     "output_type": "stream",
     "text": [
      "\n",
      "[CV] C=0.001 .........................................................\n",
      "[LibLinear][CV] ................................ C=0.001, score=0.746382 -  12.8s\n",
      "[CV] C=0.005 .........................................................\n",
      "[LibLinear][CV] ................................ C=0.005, score=0.751621 -  18.4s\n",
      "[CV] C=0.005 .........................................................\n",
      "[LibLinear][CV] ................................ C=0.005, score=0.756534 -  19.0s\n",
      "[CV] C=0.005 .........................................................\n",
      "[LibLinear][CV] ................................ C=0.005, score=0.748955 -  18.9s\n",
      "[CV] C=0.005 .........................................................\n",
      "[LibLinear][CV] ................................ C=0.005, score=0.748892 -  17.6s\n",
      "[CV] C=0.005 .........................................................\n",
      "[LibLinear][CV] ................................ C=0.005, score=0.750149 -  18.2s\n",
      "[CV] C=0.01 ..........................................................\n",
      "[LibLinear][CV] ................................. C=0.01, score=0.752253 -  20.0s\n",
      "[CV] C=0.01 ..........................................................\n",
      "[LibLinear][CV] ................................. C=0.01, score=0.756953 -  19.9s"
     ]
    },
    {
     "name": "stderr",
     "output_type": "stream",
     "text": [
      "[Parallel(n_jobs=1)]: Done   7 tasks       | elapsed:  1.8min\n",
      "[Parallel(n_jobs=1)]: Done  12 tasks       | elapsed:  3.4min\n"
     ]
    },
    {
     "name": "stdout",
     "output_type": "stream",
     "text": [
      "\n",
      "[CV] C=0.01 ..........................................................\n",
      "[LibLinear][CV] ................................. C=0.01, score=0.749594 -  19.3s\n",
      "[CV] C=0.01 ..........................................................\n",
      "[LibLinear][CV] ................................. C=0.01, score=0.749709 -  19.3s\n",
      "[CV] C=0.01 ..........................................................\n",
      "[LibLinear][CV] ................................. C=0.01, score=0.750406 -  17.9s\n",
      "[CV] C=0.05 ..........................................................\n",
      "[LibLinear][CV] ................................. C=0.05, score=0.752544 -  23.8s\n",
      "[CV] C=0.05 ..........................................................\n",
      "[LibLinear][CV] ................................. C=0.05, score=0.757091 -  22.8s\n",
      "[CV] C=0.05 ..........................................................\n",
      "[LibLinear][CV] ................................. C=0.05, score=0.749935 -  25.9s\n",
      "[CV] C=0.05 ..........................................................\n",
      "[LibLinear][CV] ................................. C=0.05, score=0.750208 -  24.6s\n",
      "[CV] C=0.05 ..........................................................\n",
      "[LibLinear][CV] ................................. C=0.05, score=0.750361 -  21.8s\n",
      "[CV] C=0.1 ...........................................................\n",
      "[LibLinear][CV] .................................. C=0.1, score=0.752553 -  26.3s\n",
      "[CV] C=0.1 ...........................................................\n",
      "[LibLinear][CV] .................................. C=0.1, score=0.757070 -  24.7s\n",
      "[CV] C=0.1 ...........................................................\n",
      "[LibLinear][CV] .................................. C=0.1, score=0.749947 -  27.1s\n",
      "[CV] C=0.1 ...........................................................\n",
      "[LibLinear][CV] .................................. C=0.1, score=0.750239 -  27.1s"
     ]
    },
    {
     "name": "stderr",
     "output_type": "stream",
     "text": [
      "[Parallel(n_jobs=1)]: Done  17 tasks       | elapsed:  5.1min\n",
      "[Parallel(n_jobs=1)]: Done  24 tasks       | elapsed:  8.1min\n"
     ]
    },
    {
     "name": "stdout",
     "output_type": "stream",
     "text": [
      "\n",
      "[CV] C=0.1 ...........................................................\n",
      "[LibLinear][CV] .................................. C=0.1, score=0.750308 -  21.7s\n",
      "[CV] C=0.5 ...........................................................\n",
      "[LibLinear][CV] .................................. C=0.5, score=0.752542 -  27.8s\n",
      "[CV] C=0.5 ...........................................................\n",
      "[LibLinear][CV] .................................. C=0.5, score=0.757051 -  28.1s\n",
      "[CV] C=0.5 ...........................................................\n",
      "[LibLinear][CV] .................................. C=0.5, score=0.749938 -  27.7s\n",
      "[CV] C=0.5 ...........................................................\n",
      "[LibLinear][CV] .................................. C=0.5, score=0.750255 -  30.6s\n",
      "[CV] C=0.5 ...........................................................\n",
      "[LibLinear][CV] .................................. C=0.5, score=0.750260 -  25.4s\n",
      "[CV] C=1.0 ...........................................................\n",
      "[LibLinear][CV] .................................. C=1.0, score=0.752542 -  28.5s\n",
      "[CV] C=1.0 ...........................................................\n",
      "[LibLinear][CV] .................................. C=1.0, score=0.757048 -  27.5s\n",
      "[CV] C=1.0 ...........................................................\n",
      "[LibLinear][CV] .................................. C=1.0, score=0.749939 -  35.1s\n",
      "[CV] C=1.0 ...........................................................\n",
      "[LibLinear][CV] .................................. C=1.0, score=0.750256 -  47.3s\n",
      "[CV] C=1.0 ...........................................................\n",
      "[LibLinear][CV] .................................. C=1.0, score=0.750252 -  23.9s\n",
      "[CV] C=5.0 ...........................................................\n",
      "[LibLinear][CV] .................................. C=5.0, score=0.752539 -  27.8s\n",
      "[CV] C=5.0 ...........................................................\n",
      "[LibLinear][CV] .................................. C=5.0, score=0.757045 -  28.1s\n",
      "[CV] C=5.0 ...........................................................\n",
      "[LibLinear][CV] .................................. C=5.0, score=0.749938 -  27.8s\n",
      "[CV] C=5.0 ...........................................................\n",
      "[LibLinear][CV] .................................. C=5.0, score=0.750257 -  30.4s\n",
      "[CV] C=5.0 ...........................................................\n",
      "[LibLinear][CV] .................................. C=5.0, score=0.750246 -  24.1s"
     ]
    },
    {
     "name": "stderr",
     "output_type": "stream",
     "text": [
      "[Parallel(n_jobs=1)]: Done  31 tasks       | elapsed: 11.3min\n",
      "[Parallel(n_jobs=1)]: Done  40 tasks       | elapsed: 15.8min\n"
     ]
    },
    {
     "name": "stdout",
     "output_type": "stream",
     "text": [
      "\n",
      "[CV] C=10.0 ..........................................................\n",
      "[LibLinear][CV] ................................. C=10.0, score=0.752538 -  27.7s\n",
      "[CV] C=10.0 ..........................................................\n",
      "[LibLinear][CV] ................................. C=10.0, score=0.757045 -  27.5s\n",
      "[CV] C=10.0 ..........................................................\n",
      "[LibLinear][CV] ................................. C=10.0, score=0.749938 -  27.5s\n",
      "[CV] C=10.0 ..........................................................\n",
      "[LibLinear][CV] ................................. C=10.0, score=0.750257 -  27.9s\n",
      "[CV] C=10.0 ..........................................................\n",
      "[LibLinear][CV] ................................. C=10.0, score=0.750245 -  23.9s\n",
      "[LibLinear]"
     ]
    },
    {
     "name": "stderr",
     "output_type": "stream",
     "text": [
      "[Parallel(n_jobs=1)]: Done  45 out of  45 | elapsed: 18.1min finished\n"
     ]
    }
   ],
   "source": [
    "tic = time.time()\n",
    "\n",
    "grid_search.fit(X_wBag, y)\n",
    "\n",
    "toc = time.time()"
   ]
  },
  {
   "cell_type": "code",
   "execution_count": 65,
   "metadata": {
    "collapsed": false,
    "scrolled": true
   },
   "outputs": [
    {
     "name": "stdout",
     "output_type": "stream",
     "text": [
      "Elapsed time:  18.57 min.\n"
     ]
    }
   ],
   "source": [
    "print(\"Elapsed time: \", \"{:.2f} min.\".format((toc-tic)/60))"
   ]
  },
  {
   "cell_type": "code",
   "execution_count": 66,
   "metadata": {
    "collapsed": false
   },
   "outputs": [
    {
     "data": {
      "text/plain": [
       "[mean: 0.74625, std: 0.00321, params: {'C': 0.001},\n",
       " mean: 0.75123, std: 0.00283, params: {'C': 0.005},\n",
       " mean: 0.75178, std: 0.00275, params: {'C': 0.01},\n",
       " mean: 0.75203, std: 0.00270, params: {'C': 0.05},\n",
       " mean: 0.75202, std: 0.00269, params: {'C': 0.1},\n",
       " mean: 0.75201, std: 0.00269, params: {'C': 0.5},\n",
       " mean: 0.75201, std: 0.00269, params: {'C': 1.0},\n",
       " mean: 0.75200, std: 0.00269, params: {'C': 5.0},\n",
       " mean: 0.75200, std: 0.00269, params: {'C': 10.0}]"
      ]
     },
     "execution_count": 66,
     "metadata": {},
     "output_type": "execute_result"
    }
   ],
   "source": [
    "grid_search.grid_scores_"
   ]
  },
  {
   "cell_type": "code",
   "execution_count": 67,
   "metadata": {
    "collapsed": false
   },
   "outputs": [
    {
     "data": {
      "text/plain": [
       "({'C': 0.05}, 0.75202780383492607)"
      ]
     },
     "execution_count": 67,
     "metadata": {},
     "output_type": "execute_result"
    }
   ],
   "source": [
    "grid_search.best_params_, grid_search.best_score_"
   ]
  },
  {
   "cell_type": "code",
   "execution_count": null,
   "metadata": {
    "collapsed": true
   },
   "outputs": [],
   "source": []
  },
  {
   "cell_type": "markdown",
   "metadata": {},
   "source": [
    "** 6.Постройте предсказания вероятностей победы команды Radiant для тестовой выборки с помощью лучшей из изученных моделей (лучшей с точки зрения AUC-ROC на кросс-валидации). Убедитесь, что предсказанные вероятности адекватные — находятся на отрезке [0, 1], не совпадают между собой (т.е. что модель не получилась константной). **"
   ]
  },
  {
   "cell_type": "code",
   "execution_count": 36,
   "metadata": {
    "collapsed": false
   },
   "outputs": [
    {
     "name": "stdout",
     "output_type": "stream",
     "text": [
      "[LibLinear]"
     ]
    }
   ],
   "source": [
    "tic = time.time()\n",
    "\n",
    "logistic_classifier = sklearn.linear_model.LogisticRegression(C=0.05, penalty='l2', verbose=1)\n",
    "logistic_classifier.fit(X_wBag, y)\n",
    "\n",
    "toc = time.time()"
   ]
  },
  {
   "cell_type": "code",
   "execution_count": 37,
   "metadata": {
    "collapsed": false
   },
   "outputs": [
    {
     "name": "stdout",
     "output_type": "stream",
     "text": [
      "Elapsed time:  0.57 min.\n"
     ]
    }
   ],
   "source": [
    "print(\"Elapsed time: \", \"{:.2f} min.\".format((toc-tic)/60))"
   ]
  },
  {
   "cell_type": "code",
   "execution_count": 68,
   "metadata": {
    "collapsed": false
   },
   "outputs": [
    {
     "data": {
      "text/plain": [
       "0.75443547606949113"
      ]
     },
     "execution_count": 68,
     "metadata": {},
     "output_type": "execute_result"
    }
   ],
   "source": [
    "y_pred = logistic_classifier.predict_proba(X_wBag)\n",
    "\n",
    "sklearn.metrics.roc_auc_score(y, y_pred[:,1])"
   ]
  },
  {
   "cell_type": "code",
   "execution_count": null,
   "metadata": {
    "collapsed": true
   },
   "outputs": [],
   "source": []
  },
  {
   "cell_type": "code",
   "execution_count": 44,
   "metadata": {
    "collapsed": false
   },
   "outputs": [
    {
     "data": {
      "text/html": [
       "<div>\n",
       "<table border=\"1\" class=\"dataframe\">\n",
       "  <thead>\n",
       "    <tr style=\"text-align: right;\">\n",
       "      <th></th>\n",
       "      <th>start_time</th>\n",
       "      <th>lobby_type</th>\n",
       "      <th>r1_hero</th>\n",
       "      <th>r1_level</th>\n",
       "      <th>r1_xp</th>\n",
       "      <th>r1_gold</th>\n",
       "      <th>r1_lh</th>\n",
       "      <th>r1_kills</th>\n",
       "      <th>r1_deaths</th>\n",
       "      <th>r1_items</th>\n",
       "      <th>...</th>\n",
       "      <th>radiant_ward_sentry_count</th>\n",
       "      <th>radiant_first_ward_time</th>\n",
       "      <th>dire_bottle_time</th>\n",
       "      <th>dire_courier_time</th>\n",
       "      <th>dire_flying_courier_time</th>\n",
       "      <th>dire_tpscroll_count</th>\n",
       "      <th>dire_boots_count</th>\n",
       "      <th>dire_ward_observer_count</th>\n",
       "      <th>dire_ward_sentry_count</th>\n",
       "      <th>dire_first_ward_time</th>\n",
       "    </tr>\n",
       "    <tr>\n",
       "      <th>match_id</th>\n",
       "      <th></th>\n",
       "      <th></th>\n",
       "      <th></th>\n",
       "      <th></th>\n",
       "      <th></th>\n",
       "      <th></th>\n",
       "      <th></th>\n",
       "      <th></th>\n",
       "      <th></th>\n",
       "      <th></th>\n",
       "      <th></th>\n",
       "      <th></th>\n",
       "      <th></th>\n",
       "      <th></th>\n",
       "      <th></th>\n",
       "      <th></th>\n",
       "      <th></th>\n",
       "      <th></th>\n",
       "      <th></th>\n",
       "      <th></th>\n",
       "      <th></th>\n",
       "    </tr>\n",
       "  </thead>\n",
       "  <tbody>\n",
       "    <tr>\n",
       "      <th>6</th>\n",
       "      <td>1430287923</td>\n",
       "      <td>0</td>\n",
       "      <td>93</td>\n",
       "      <td>4</td>\n",
       "      <td>1103</td>\n",
       "      <td>1089</td>\n",
       "      <td>8</td>\n",
       "      <td>0</td>\n",
       "      <td>1</td>\n",
       "      <td>9</td>\n",
       "      <td>...</td>\n",
       "      <td>0</td>\n",
       "      <td>12</td>\n",
       "      <td>247</td>\n",
       "      <td>-86</td>\n",
       "      <td>272</td>\n",
       "      <td>3</td>\n",
       "      <td>4</td>\n",
       "      <td>2</td>\n",
       "      <td>0</td>\n",
       "      <td>118</td>\n",
       "    </tr>\n",
       "    <tr>\n",
       "      <th>7</th>\n",
       "      <td>1430293357</td>\n",
       "      <td>1</td>\n",
       "      <td>20</td>\n",
       "      <td>2</td>\n",
       "      <td>556</td>\n",
       "      <td>570</td>\n",
       "      <td>1</td>\n",
       "      <td>0</td>\n",
       "      <td>0</td>\n",
       "      <td>9</td>\n",
       "      <td>...</td>\n",
       "      <td>2</td>\n",
       "      <td>-29</td>\n",
       "      <td>168</td>\n",
       "      <td>-54</td>\n",
       "      <td>NaN</td>\n",
       "      <td>3</td>\n",
       "      <td>2</td>\n",
       "      <td>2</td>\n",
       "      <td>1</td>\n",
       "      <td>16</td>\n",
       "    </tr>\n",
       "    <tr>\n",
       "      <th>10</th>\n",
       "      <td>1430301774</td>\n",
       "      <td>1</td>\n",
       "      <td>112</td>\n",
       "      <td>2</td>\n",
       "      <td>751</td>\n",
       "      <td>808</td>\n",
       "      <td>1</td>\n",
       "      <td>0</td>\n",
       "      <td>0</td>\n",
       "      <td>13</td>\n",
       "      <td>...</td>\n",
       "      <td>1</td>\n",
       "      <td>-22</td>\n",
       "      <td>46</td>\n",
       "      <td>-87</td>\n",
       "      <td>186</td>\n",
       "      <td>1</td>\n",
       "      <td>3</td>\n",
       "      <td>3</td>\n",
       "      <td>0</td>\n",
       "      <td>-34</td>\n",
       "    </tr>\n",
       "    <tr>\n",
       "      <th>13</th>\n",
       "      <td>1430323933</td>\n",
       "      <td>1</td>\n",
       "      <td>27</td>\n",
       "      <td>3</td>\n",
       "      <td>708</td>\n",
       "      <td>903</td>\n",
       "      <td>1</td>\n",
       "      <td>1</td>\n",
       "      <td>1</td>\n",
       "      <td>11</td>\n",
       "      <td>...</td>\n",
       "      <td>2</td>\n",
       "      <td>-49</td>\n",
       "      <td>30</td>\n",
       "      <td>-89</td>\n",
       "      <td>210</td>\n",
       "      <td>3</td>\n",
       "      <td>4</td>\n",
       "      <td>2</td>\n",
       "      <td>1</td>\n",
       "      <td>-26</td>\n",
       "    </tr>\n",
       "    <tr>\n",
       "      <th>16</th>\n",
       "      <td>1430331112</td>\n",
       "      <td>1</td>\n",
       "      <td>39</td>\n",
       "      <td>4</td>\n",
       "      <td>1259</td>\n",
       "      <td>661</td>\n",
       "      <td>4</td>\n",
       "      <td>0</td>\n",
       "      <td>0</td>\n",
       "      <td>9</td>\n",
       "      <td>...</td>\n",
       "      <td>0</td>\n",
       "      <td>36</td>\n",
       "      <td>180</td>\n",
       "      <td>-86</td>\n",
       "      <td>180</td>\n",
       "      <td>1</td>\n",
       "      <td>3</td>\n",
       "      <td>2</td>\n",
       "      <td>1</td>\n",
       "      <td>-33</td>\n",
       "    </tr>\n",
       "  </tbody>\n",
       "</table>\n",
       "<p>5 rows × 102 columns</p>\n",
       "</div>"
      ],
      "text/plain": [
       "          start_time  lobby_type  r1_hero  r1_level  r1_xp  r1_gold  r1_lh  \\\n",
       "match_id                                                                     \n",
       "6         1430287923           0       93         4   1103     1089      8   \n",
       "7         1430293357           1       20         2    556      570      1   \n",
       "10        1430301774           1      112         2    751      808      1   \n",
       "13        1430323933           1       27         3    708      903      1   \n",
       "16        1430331112           1       39         4   1259      661      4   \n",
       "\n",
       "          r1_kills  r1_deaths  r1_items          ...           \\\n",
       "match_id                                         ...            \n",
       "6                0          1         9          ...            \n",
       "7                0          0         9          ...            \n",
       "10               0          0        13          ...            \n",
       "13               1          1        11          ...            \n",
       "16               0          0         9          ...            \n",
       "\n",
       "          radiant_ward_sentry_count  radiant_first_ward_time  \\\n",
       "match_id                                                       \n",
       "6                                 0                       12   \n",
       "7                                 2                      -29   \n",
       "10                                1                      -22   \n",
       "13                                2                      -49   \n",
       "16                                0                       36   \n",
       "\n",
       "          dire_bottle_time  dire_courier_time  dire_flying_courier_time  \\\n",
       "match_id                                                                  \n",
       "6                      247                -86                       272   \n",
       "7                      168                -54                       NaN   \n",
       "10                      46                -87                       186   \n",
       "13                      30                -89                       210   \n",
       "16                     180                -86                       180   \n",
       "\n",
       "          dire_tpscroll_count  dire_boots_count  dire_ward_observer_count  \\\n",
       "match_id                                                                    \n",
       "6                           3                 4                         2   \n",
       "7                           3                 2                         2   \n",
       "10                          1                 3                         3   \n",
       "13                          3                 4                         2   \n",
       "16                          1                 3                         2   \n",
       "\n",
       "          dire_ward_sentry_count  dire_first_ward_time  \n",
       "match_id                                                \n",
       "6                              0                   118  \n",
       "7                              1                    16  \n",
       "10                             0                   -34  \n",
       "13                             1                   -26  \n",
       "16                             1                   -33  \n",
       "\n",
       "[5 rows x 102 columns]"
      ]
     },
     "execution_count": 44,
     "metadata": {},
     "output_type": "execute_result"
    }
   ],
   "source": [
    "zfile_test = zipfile.ZipFile('features_test.zip')\n",
    "\n",
    "data_test = pd.read_csv(zfile_test.open('features_test.csv'), index_col='match_id')\n",
    "data_test.head()"
   ]
  },
  {
   "cell_type": "code",
   "execution_count": 47,
   "metadata": {
    "collapsed": false
   },
   "outputs": [
    {
     "data": {
      "text/plain": [
       "(17177, 102)"
      ]
     },
     "execution_count": 47,
     "metadata": {},
     "output_type": "execute_result"
    }
   ],
   "source": [
    "X_test = data_test\n",
    "np.shape(X_test)"
   ]
  },
  {
   "cell_type": "code",
   "execution_count": 48,
   "metadata": {
    "collapsed": true
   },
   "outputs": [],
   "source": [
    "X_test.fillna(value=0, inplace=True)"
   ]
  },
  {
   "cell_type": "code",
   "execution_count": 49,
   "metadata": {
    "collapsed": true
   },
   "outputs": [],
   "source": [
    "scaler = sklearn.preprocessing.StandardScaler()\n",
    "X_test = pd.DataFrame( scaler.fit_transform(X) , index=X_test.index, columns=X_test.columns)"
   ]
  },
  {
   "cell_type": "code",
   "execution_count": 50,
   "metadata": {
    "collapsed": true
   },
   "outputs": [],
   "source": [
    "X_woCateg_test = X_test.drop(['lobby_type', *heroes], axis=1)"
   ]
  },
  {
   "cell_type": "code",
   "execution_count": 51,
   "metadata": {
    "collapsed": true
   },
   "outputs": [],
   "source": [
    "# Код для формирования \"мешка слов\" по героям\n",
    "# N — количество различных героев в выборке\n",
    "data_heroes = data_test[[*heroes]]\n",
    "\n",
    "X_pick = np.zeros((data_heroes.shape[0], N_heroes))\n",
    "\n",
    "for i, match_id in enumerate(data_heroes.index):\n",
    "    for p in range(5):\n",
    "        X_pick[i, data_heroes.ix[match_id, 'r%d_hero' % (p+1)]-1] = 1\n",
    "        X_pick[i, data_heroes.ix[match_id, 'd%d_hero' % (p+1)]-1] = -1"
   ]
  },
  {
   "cell_type": "code",
   "execution_count": 52,
   "metadata": {
    "collapsed": true
   },
   "outputs": [],
   "source": [
    "X_wBag_test = pd.concat([ X_woCateg_test, pd.DataFrame(X_pick, index=X_woCateg_test.index)], axis=1)"
   ]
  },
  {
   "cell_type": "code",
   "execution_count": 53,
   "metadata": {
    "collapsed": false
   },
   "outputs": [
    {
     "data": {
      "text/plain": [
       "(17177, 203)"
      ]
     },
     "execution_count": 53,
     "metadata": {},
     "output_type": "execute_result"
    }
   ],
   "source": [
    "np.shape(X_wBag_test)"
   ]
  },
  {
   "cell_type": "code",
   "execution_count": null,
   "metadata": {
    "collapsed": true
   },
   "outputs": [],
   "source": []
  },
  {
   "cell_type": "code",
   "execution_count": 72,
   "metadata": {
    "collapsed": false
   },
   "outputs": [
    {
     "data": {
      "text/plain": [
       "(17177, 2)"
      ]
     },
     "execution_count": 72,
     "metadata": {},
     "output_type": "execute_result"
    }
   ],
   "source": [
    "y_pred = logistic_classifier.predict_proba(X_wBag_test)\n",
    "np.shape(y_pred)"
   ]
  },
  {
   "cell_type": "code",
   "execution_count": 73,
   "metadata": {
    "collapsed": false
   },
   "outputs": [
    {
     "data": {
      "text/plain": [
       "<matplotlib.text.Text at 0x8e0d530>"
      ]
     },
     "execution_count": 73,
     "metadata": {},
     "output_type": "execute_result"
    },
    {
     "data": {
      "image/png": "[encoded data removed]",
      "text/plain": [
       "<matplotlib.figure.Figure at 0x8e207d0>"
      ]
     },
     "metadata": {},
     "output_type": "display_data"
    }
   ],
   "source": [
    "plt.hist(y_pred[:,1], bins=50);\n",
    "plt.axvline(0.5,linestyle='--',color='r')\n",
    "plt.xlabel('y_pred')"
   ]
  },
  {
   "cell_type": "code",
   "execution_count": 74,
   "metadata": {
    "collapsed": false
   },
   "outputs": [
    {
     "data": {
      "text/plain": [
       "(0.0085516454251114843, 0.99640182014530887)"
      ]
     },
     "execution_count": 74,
     "metadata": {},
     "output_type": "execute_result"
    }
   ],
   "source": [
    "np.min(y_pred[:,1]), np.max(y_pred[:,1])"
   ]
  },
  {
   "cell_type": "code",
   "execution_count": null,
   "metadata": {
    "collapsed": false
   },
   "outputs": [],
   "source": [
    "plt.xscale()"
   ]
  },
  {
   "cell_type": "code",
   "execution_count": null,
   "metadata": {
    "collapsed": true
   },
   "outputs": [],
   "source": []
  },
  {
   "cell_type": "code",
   "execution_count": 92,
   "metadata": {
    "collapsed": false
   },
   "outputs": [
    {
     "data": {
      "text/plain": [
       "((203,), (203,))"
      ]
     },
     "execution_count": 92,
     "metadata": {},
     "output_type": "execute_result"
    }
   ],
   "source": [
    "X_wBag_test.columns.shape, logistic_classifier.coef_[:][0].shape"
   ]
  },
  {
   "cell_type": "code",
   "execution_count": 99,
   "metadata": {
    "collapsed": false
   },
   "outputs": [],
   "source": [
    "importance = pd.DataFrame(np.c_[X_wBag_test.columns, logistic_classifier.coef_[:][0]], columns=['feature','importance'])"
   ]
  },
  {
   "cell_type": "code",
   "execution_count": 105,
   "metadata": {
    "collapsed": false
   },
   "outputs": [],
   "source": [
    "importance['abs'] = np.abs(importance.importance)"
   ]
  },
  {
   "cell_type": "code",
   "execution_count": 114,
   "metadata": {
    "collapsed": false
   },
   "outputs": [],
   "source": [
    "q = importance['abs'].quantile(np.linspace(0,1,11)[1:-1]).values\n",
    "importance['quant'] = importance['abs'].apply(lambda x: (x > q).sum() )"
   ]
  },
  {
   "cell_type": "code",
   "execution_count": 115,
   "metadata": {
    "collapsed": false,
    "scrolled": true
   },
   "outputs": [
    {
     "name": "stderr",
     "output_type": "stream",
     "text": [
      "C:\\Anaconda3\\lib\\site-packages\\ipykernel\\__main__.py:1: FutureWarning: sort(columns=....) is deprecated, use sort_values(by=.....)\n",
      "  if __name__ == '__main__':\n"
     ]
    },
    {
     "data": {
      "text/html": [
       "<div>\n",
       "<table border=\"1\" class=\"dataframe\">\n",
       "  <thead>\n",
       "    <tr style=\"text-align: right;\">\n",
       "      <th></th>\n",
       "      <th>feature</th>\n",
       "      <th>importance</th>\n",
       "      <th>abs</th>\n",
       "      <th>quant</th>\n",
       "    </tr>\n",
       "  </thead>\n",
       "  <tbody>\n",
       "    <tr>\n",
       "      <th>157</th>\n",
       "      <td>66</td>\n",
       "      <td>0.616287</td>\n",
       "      <td>0.616287</td>\n",
       "      <td>9</td>\n",
       "    </tr>\n",
       "    <tr>\n",
       "      <th>92</th>\n",
       "      <td>1</td>\n",
       "      <td>-0.53652</td>\n",
       "      <td>0.53652</td>\n",
       "      <td>9</td>\n",
       "    </tr>\n",
       "    <tr>\n",
       "      <th>103</th>\n",
       "      <td>12</td>\n",
       "      <td>-0.497777</td>\n",
       "      <td>0.497777</td>\n",
       "      <td>9</td>\n",
       "    </tr>\n",
       "    <tr>\n",
       "      <th>147</th>\n",
       "      <td>56</td>\n",
       "      <td>0.478889</td>\n",
       "      <td>0.478889</td>\n",
       "      <td>9</td>\n",
       "    </tr>\n",
       "    <tr>\n",
       "      <th>166</th>\n",
       "      <td>75</td>\n",
       "      <td>-0.442539</td>\n",
       "      <td>0.442539</td>\n",
       "      <td>9</td>\n",
       "    </tr>\n",
       "    <tr>\n",
       "      <th>148</th>\n",
       "      <td>57</td>\n",
       "      <td>-0.440963</td>\n",
       "      <td>0.440963</td>\n",
       "      <td>9</td>\n",
       "    </tr>\n",
       "    <tr>\n",
       "      <th>123</th>\n",
       "      <td>32</td>\n",
       "      <td>-0.404076</td>\n",
       "      <td>0.404076</td>\n",
       "      <td>9</td>\n",
       "    </tr>\n",
       "    <tr>\n",
       "      <th>129</th>\n",
       "      <td>38</td>\n",
       "      <td>-0.378644</td>\n",
       "      <td>0.378644</td>\n",
       "      <td>9</td>\n",
       "    </tr>\n",
       "    <tr>\n",
       "      <th>192</th>\n",
       "      <td>101</td>\n",
       "      <td>0.374187</td>\n",
       "      <td>0.374187</td>\n",
       "      <td>9</td>\n",
       "    </tr>\n",
       "    <tr>\n",
       "      <th>122</th>\n",
       "      <td>31</td>\n",
       "      <td>0.354631</td>\n",
       "      <td>0.354631</td>\n",
       "      <td>9</td>\n",
       "    </tr>\n",
       "    <tr>\n",
       "      <th>191</th>\n",
       "      <td>100</td>\n",
       "      <td>-0.342659</td>\n",
       "      <td>0.342659</td>\n",
       "      <td>9</td>\n",
       "    </tr>\n",
       "    <tr>\n",
       "      <th>132</th>\n",
       "      <td>41</td>\n",
       "      <td>0.327427</td>\n",
       "      <td>0.327427</td>\n",
       "      <td>9</td>\n",
       "    </tr>\n",
       "    <tr>\n",
       "      <th>137</th>\n",
       "      <td>46</td>\n",
       "      <td>-0.324748</td>\n",
       "      <td>0.324748</td>\n",
       "      <td>9</td>\n",
       "    </tr>\n",
       "    <tr>\n",
       "      <th>115</th>\n",
       "      <td>24</td>\n",
       "      <td>-0.316576</td>\n",
       "      <td>0.316576</td>\n",
       "      <td>9</td>\n",
       "    </tr>\n",
       "    <tr>\n",
       "      <th>167</th>\n",
       "      <td>76</td>\n",
       "      <td>0.295601</td>\n",
       "      <td>0.295601</td>\n",
       "      <td>9</td>\n",
       "    </tr>\n",
       "    <tr>\n",
       "      <th>159</th>\n",
       "      <td>68</td>\n",
       "      <td>0.295221</td>\n",
       "      <td>0.295221</td>\n",
       "      <td>9</td>\n",
       "    </tr>\n",
       "    <tr>\n",
       "      <th>151</th>\n",
       "      <td>60</td>\n",
       "      <td>-0.290441</td>\n",
       "      <td>0.290441</td>\n",
       "      <td>9</td>\n",
       "    </tr>\n",
       "    <tr>\n",
       "      <th>112</th>\n",
       "      <td>21</td>\n",
       "      <td>0.279591</td>\n",
       "      <td>0.279591</td>\n",
       "      <td>9</td>\n",
       "    </tr>\n",
       "    <tr>\n",
       "      <th>172</th>\n",
       "      <td>81</td>\n",
       "      <td>0.277021</td>\n",
       "      <td>0.277021</td>\n",
       "      <td>9</td>\n",
       "    </tr>\n",
       "    <tr>\n",
       "      <th>161</th>\n",
       "      <td>70</td>\n",
       "      <td>0.254506</td>\n",
       "      <td>0.254506</td>\n",
       "      <td>9</td>\n",
       "    </tr>\n",
       "    <tr>\n",
       "      <th>143</th>\n",
       "      <td>52</td>\n",
       "      <td>-0.250264</td>\n",
       "      <td>0.250264</td>\n",
       "      <td>9</td>\n",
       "    </tr>\n",
       "    <tr>\n",
       "      <th>194</th>\n",
       "      <td>103</td>\n",
       "      <td>-0.236331</td>\n",
       "      <td>0.236331</td>\n",
       "      <td>8</td>\n",
       "    </tr>\n",
       "    <tr>\n",
       "      <th>53</th>\n",
       "      <td>d3_lh</td>\n",
       "      <td>-0.234651</td>\n",
       "      <td>0.234651</td>\n",
       "      <td>8</td>\n",
       "    </tr>\n",
       "    <tr>\n",
       "      <th>18</th>\n",
       "      <td>r3_lh</td>\n",
       "      <td>0.231318</td>\n",
       "      <td>0.231318</td>\n",
       "      <td>8</td>\n",
       "    </tr>\n",
       "    <tr>\n",
       "      <th>25</th>\n",
       "      <td>r4_lh</td>\n",
       "      <td>0.230342</td>\n",
       "      <td>0.230342</td>\n",
       "      <td>8</td>\n",
       "    </tr>\n",
       "    <tr>\n",
       "      <th>160</th>\n",
       "      <td>69</td>\n",
       "      <td>0.229446</td>\n",
       "      <td>0.229446</td>\n",
       "      <td>8</td>\n",
       "    </tr>\n",
       "    <tr>\n",
       "      <th>97</th>\n",
       "      <td>6</td>\n",
       "      <td>0.228367</td>\n",
       "      <td>0.228367</td>\n",
       "      <td>8</td>\n",
       "    </tr>\n",
       "    <tr>\n",
       "      <th>67</th>\n",
       "      <td>d5_lh</td>\n",
       "      <td>-0.225597</td>\n",
       "      <td>0.225597</td>\n",
       "      <td>8</td>\n",
       "    </tr>\n",
       "    <tr>\n",
       "      <th>11</th>\n",
       "      <td>r2_lh</td>\n",
       "      <td>0.22519</td>\n",
       "      <td>0.22519</td>\n",
       "      <td>8</td>\n",
       "    </tr>\n",
       "    <tr>\n",
       "      <th>111</th>\n",
       "      <td>20</td>\n",
       "      <td>-0.223604</td>\n",
       "      <td>0.223604</td>\n",
       "      <td>8</td>\n",
       "    </tr>\n",
       "    <tr>\n",
       "      <th>...</th>\n",
       "      <td>...</td>\n",
       "      <td>...</td>\n",
       "      <td>...</td>\n",
       "      <td>...</td>\n",
       "    </tr>\n",
       "    <tr>\n",
       "      <th>36</th>\n",
       "      <td>d1_level</td>\n",
       "      <td>-0.0154802</td>\n",
       "      <td>0.0154802</td>\n",
       "      <td>1</td>\n",
       "    </tr>\n",
       "    <tr>\n",
       "      <th>164</th>\n",
       "      <td>73</td>\n",
       "      <td>-0.0137634</td>\n",
       "      <td>0.0137634</td>\n",
       "      <td>1</td>\n",
       "    </tr>\n",
       "    <tr>\n",
       "      <th>140</th>\n",
       "      <td>49</td>\n",
       "      <td>-0.0136257</td>\n",
       "      <td>0.0136257</td>\n",
       "      <td>1</td>\n",
       "    </tr>\n",
       "    <tr>\n",
       "      <th>85</th>\n",
       "      <td>dire_flying_courier_time</td>\n",
       "      <td>-0.0123931</td>\n",
       "      <td>0.0123931</td>\n",
       "      <td>1</td>\n",
       "    </tr>\n",
       "    <tr>\n",
       "      <th>87</th>\n",
       "      <td>dire_boots_count</td>\n",
       "      <td>-0.0109439</td>\n",
       "      <td>0.0109439</td>\n",
       "      <td>1</td>\n",
       "    </tr>\n",
       "    <tr>\n",
       "      <th>119</th>\n",
       "      <td>28</td>\n",
       "      <td>-0.0106761</td>\n",
       "      <td>0.0106761</td>\n",
       "      <td>1</td>\n",
       "    </tr>\n",
       "    <tr>\n",
       "      <th>71</th>\n",
       "      <td>first_blood_time</td>\n",
       "      <td>0.00936023</td>\n",
       "      <td>0.00936023</td>\n",
       "      <td>1</td>\n",
       "    </tr>\n",
       "    <tr>\n",
       "      <th>22</th>\n",
       "      <td>r4_level</td>\n",
       "      <td>0.00908072</td>\n",
       "      <td>0.00908072</td>\n",
       "      <td>1</td>\n",
       "    </tr>\n",
       "    <tr>\n",
       "      <th>88</th>\n",
       "      <td>dire_ward_observer_count</td>\n",
       "      <td>0.00758172</td>\n",
       "      <td>0.00758172</td>\n",
       "      <td>1</td>\n",
       "    </tr>\n",
       "    <tr>\n",
       "      <th>80</th>\n",
       "      <td>radiant_ward_observer_count</td>\n",
       "      <td>-0.0073735</td>\n",
       "      <td>0.0073735</td>\n",
       "      <td>0</td>\n",
       "    </tr>\n",
       "    <tr>\n",
       "      <th>83</th>\n",
       "      <td>dire_bottle_time</td>\n",
       "      <td>0.00718674</td>\n",
       "      <td>0.00718674</td>\n",
       "      <td>0</td>\n",
       "    </tr>\n",
       "    <tr>\n",
       "      <th>106</th>\n",
       "      <td>15</td>\n",
       "      <td>0.00683146</td>\n",
       "      <td>0.00683146</td>\n",
       "      <td>0</td>\n",
       "    </tr>\n",
       "    <tr>\n",
       "      <th>43</th>\n",
       "      <td>d2_level</td>\n",
       "      <td>-0.00661283</td>\n",
       "      <td>0.00661283</td>\n",
       "      <td>0</td>\n",
       "    </tr>\n",
       "    <tr>\n",
       "      <th>202</th>\n",
       "      <td>111</td>\n",
       "      <td>0.00607384</td>\n",
       "      <td>0.00607384</td>\n",
       "      <td>0</td>\n",
       "    </tr>\n",
       "    <tr>\n",
       "      <th>72</th>\n",
       "      <td>first_blood_team</td>\n",
       "      <td>0.0059366</td>\n",
       "      <td>0.0059366</td>\n",
       "      <td>0</td>\n",
       "    </tr>\n",
       "    <tr>\n",
       "      <th>1</th>\n",
       "      <td>r1_level</td>\n",
       "      <td>-0.00499394</td>\n",
       "      <td>0.00499394</td>\n",
       "      <td>0</td>\n",
       "    </tr>\n",
       "    <tr>\n",
       "      <th>15</th>\n",
       "      <td>r3_level</td>\n",
       "      <td>0.00489562</td>\n",
       "      <td>0.00489562</td>\n",
       "      <td>0</td>\n",
       "    </tr>\n",
       "    <tr>\n",
       "      <th>113</th>\n",
       "      <td>22</td>\n",
       "      <td>0.00435964</td>\n",
       "      <td>0.00435964</td>\n",
       "      <td>0</td>\n",
       "    </tr>\n",
       "    <tr>\n",
       "      <th>89</th>\n",
       "      <td>dire_ward_sentry_count</td>\n",
       "      <td>-0.00333701</td>\n",
       "      <td>0.00333701</td>\n",
       "      <td>0</td>\n",
       "    </tr>\n",
       "    <tr>\n",
       "      <th>81</th>\n",
       "      <td>radiant_ward_sentry_count</td>\n",
       "      <td>0.00318312</td>\n",
       "      <td>0.00318312</td>\n",
       "      <td>0</td>\n",
       "    </tr>\n",
       "    <tr>\n",
       "      <th>50</th>\n",
       "      <td>d3_level</td>\n",
       "      <td>0.00249767</td>\n",
       "      <td>0.00249767</td>\n",
       "      <td>0</td>\n",
       "    </tr>\n",
       "    <tr>\n",
       "      <th>168</th>\n",
       "      <td>77</td>\n",
       "      <td>-0.00226028</td>\n",
       "      <td>0.00226028</td>\n",
       "      <td>0</td>\n",
       "    </tr>\n",
       "    <tr>\n",
       "      <th>75</th>\n",
       "      <td>radiant_bottle_time</td>\n",
       "      <td>-0.00191585</td>\n",
       "      <td>0.00191585</td>\n",
       "      <td>0</td>\n",
       "    </tr>\n",
       "    <tr>\n",
       "      <th>135</th>\n",
       "      <td>44</td>\n",
       "      <td>0.00164964</td>\n",
       "      <td>0.00164964</td>\n",
       "      <td>0</td>\n",
       "    </tr>\n",
       "    <tr>\n",
       "      <th>64</th>\n",
       "      <td>d5_level</td>\n",
       "      <td>0.00142477</td>\n",
       "      <td>0.00142477</td>\n",
       "      <td>0</td>\n",
       "    </tr>\n",
       "    <tr>\n",
       "      <th>73</th>\n",
       "      <td>first_blood_player1</td>\n",
       "      <td>-0.000637421</td>\n",
       "      <td>0.000637421</td>\n",
       "      <td>0</td>\n",
       "    </tr>\n",
       "    <tr>\n",
       "      <th>197</th>\n",
       "      <td>106</td>\n",
       "      <td>0</td>\n",
       "      <td>0</td>\n",
       "      <td>0</td>\n",
       "    </tr>\n",
       "    <tr>\n",
       "      <th>198</th>\n",
       "      <td>107</td>\n",
       "      <td>0</td>\n",
       "      <td>0</td>\n",
       "      <td>0</td>\n",
       "    </tr>\n",
       "    <tr>\n",
       "      <th>114</th>\n",
       "      <td>23</td>\n",
       "      <td>0</td>\n",
       "      <td>0</td>\n",
       "      <td>0</td>\n",
       "    </tr>\n",
       "    <tr>\n",
       "      <th>201</th>\n",
       "      <td>110</td>\n",
       "      <td>0</td>\n",
       "      <td>0</td>\n",
       "      <td>0</td>\n",
       "    </tr>\n",
       "  </tbody>\n",
       "</table>\n",
       "<p>203 rows × 4 columns</p>\n",
       "</div>"
      ],
      "text/plain": [
       "                         feature   importance          abs  quant\n",
       "157                           66     0.616287     0.616287      9\n",
       "92                             1     -0.53652      0.53652      9\n",
       "103                           12    -0.497777     0.497777      9\n",
       "147                           56     0.478889     0.478889      9\n",
       "166                           75    -0.442539     0.442539      9\n",
       "148                           57    -0.440963     0.440963      9\n",
       "123                           32    -0.404076     0.404076      9\n",
       "129                           38    -0.378644     0.378644      9\n",
       "192                          101     0.374187     0.374187      9\n",
       "122                           31     0.354631     0.354631      9\n",
       "191                          100    -0.342659     0.342659      9\n",
       "132                           41     0.327427     0.327427      9\n",
       "137                           46    -0.324748     0.324748      9\n",
       "115                           24    -0.316576     0.316576      9\n",
       "167                           76     0.295601     0.295601      9\n",
       "159                           68     0.295221     0.295221      9\n",
       "151                           60    -0.290441     0.290441      9\n",
       "112                           21     0.279591     0.279591      9\n",
       "172                           81     0.277021     0.277021      9\n",
       "161                           70     0.254506     0.254506      9\n",
       "143                           52    -0.250264     0.250264      9\n",
       "194                          103    -0.236331     0.236331      8\n",
       "53                         d3_lh    -0.234651     0.234651      8\n",
       "18                         r3_lh     0.231318     0.231318      8\n",
       "25                         r4_lh     0.230342     0.230342      8\n",
       "160                           69     0.229446     0.229446      8\n",
       "97                             6     0.228367     0.228367      8\n",
       "67                         d5_lh    -0.225597     0.225597      8\n",
       "11                         r2_lh      0.22519      0.22519      8\n",
       "111                           20    -0.223604     0.223604      8\n",
       "..                           ...          ...          ...    ...\n",
       "36                      d1_level   -0.0154802    0.0154802      1\n",
       "164                           73   -0.0137634    0.0137634      1\n",
       "140                           49   -0.0136257    0.0136257      1\n",
       "85      dire_flying_courier_time   -0.0123931    0.0123931      1\n",
       "87              dire_boots_count   -0.0109439    0.0109439      1\n",
       "119                           28   -0.0106761    0.0106761      1\n",
       "71              first_blood_time   0.00936023   0.00936023      1\n",
       "22                      r4_level   0.00908072   0.00908072      1\n",
       "88      dire_ward_observer_count   0.00758172   0.00758172      1\n",
       "80   radiant_ward_observer_count   -0.0073735    0.0073735      0\n",
       "83              dire_bottle_time   0.00718674   0.00718674      0\n",
       "106                           15   0.00683146   0.00683146      0\n",
       "43                      d2_level  -0.00661283   0.00661283      0\n",
       "202                          111   0.00607384   0.00607384      0\n",
       "72              first_blood_team    0.0059366    0.0059366      0\n",
       "1                       r1_level  -0.00499394   0.00499394      0\n",
       "15                      r3_level   0.00489562   0.00489562      0\n",
       "113                           22   0.00435964   0.00435964      0\n",
       "89        dire_ward_sentry_count  -0.00333701   0.00333701      0\n",
       "81     radiant_ward_sentry_count   0.00318312   0.00318312      0\n",
       "50                      d3_level   0.00249767   0.00249767      0\n",
       "168                           77  -0.00226028   0.00226028      0\n",
       "75           radiant_bottle_time  -0.00191585   0.00191585      0\n",
       "135                           44   0.00164964   0.00164964      0\n",
       "64                      d5_level   0.00142477   0.00142477      0\n",
       "73           first_blood_player1 -0.000637421  0.000637421      0\n",
       "197                          106            0            0      0\n",
       "198                          107            0            0      0\n",
       "114                           23            0            0      0\n",
       "201                          110            0            0      0\n",
       "\n",
       "[203 rows x 4 columns]"
      ]
     },
     "execution_count": 115,
     "metadata": {},
     "output_type": "execute_result"
    }
   ],
   "source": [
    "importance.sort('abs',ascending=False)"
   ]
  },
  {
   "cell_type": "code",
   "execution_count": null,
   "metadata": {
    "collapsed": false
   },
   "outputs": [],
   "source": []
  },
  {
   "cell_type": "code",
   "execution_count": null,
   "metadata": {
    "collapsed": true
   },
   "outputs": [],
   "source": []
  },
  {
   "cell_type": "code",
   "execution_count": null,
   "metadata": {
    "collapsed": true
   },
   "outputs": [],
   "source": []
  },
  {
   "cell_type": "markdown",
   "metadata": {},
   "source": [
    "### В отчете по данному этапу вы должны ответить на следующие вопросы:\n",
    "\n",
    "** 1.Какое качество получилось у логистической регрессии над всеми исходными признаками? Как оно соотносится с качеством градиентного бустинга? Чем вы можете объяснить эту разницу? Быстрее ли работает логистическая регрессия по сравнению с градиентным бустингом? **"
   ]
  },
  {
   "cell_type": "markdown",
   "metadata": {
    "collapsed": true
   },
   "source": [
    "<font color=\"darkblue\" size=\"3em\">\n",
    "\n",
    "Значение `auc_roc`, характеризующее качество классификации, у логистической регрессии со всеми исходными признаками для лучшего подобранного значения параметра регуляризации `C=0.05` получилось равно `0.7165`. Для градиентного бустинга в лучшем случае удавалось получить не более `0.689` по полной выборке для `n_estimators=30`. \n",
    "\n",
    "Такую разницу можно объяснить особенностями выборки. По всей видимости, в выборке присутствует большое количество коррелирующих признаков. На такой выборке лучше работает именно линейный классификатор с регуляризацией, уменьшающей переобучение. Возможно, сильное сокращение количества признаков позволит методу градиентного бустинга показать лучшие результаты.\n",
    "\n",
    "Обучение логистической регрессии происходит значительно быстрее (1-2 мин. на одну модель с 5-ю кросс-валидациями) обучения градиентного бустинга (более 28 минут на одну модель)."
   ]
  },
  {
   "cell_type": "markdown",
   "metadata": {},
   "source": [
    "** 2.Как влияет на качество логистической регрессии удаление категориальных признаков (укажите новое значение метрики качества)? Чем вы можете объяснить это изменение? **"
   ]
  },
  {
   "cell_type": "markdown",
   "metadata": {
    "collapsed": true
   },
   "source": [
    "<font color=\"darkblue\" size=\"3em\">\n",
    "\n",
    "Удаление категориальных признаков незначительно улучшило качество классификации, с `0.716505` до `0.716561`. \n",
    "\n",
    "Скорее всего, удаление части признаков может положительно сказаться на результате только если удаляются признаки, которые сильно коррелируют с уже имеющимися. К тому же удаляется лишь небольшой процент от общего числа признаков."
   ]
  },
  {
   "cell_type": "markdown",
   "metadata": {},
   "source": [
    "** 3.Сколько различных идентификаторов героев существует в данной игре? **"
   ]
  },
  {
   "cell_type": "markdown",
   "metadata": {
    "collapsed": true
   },
   "source": [
    "<font color=\"darkblue\" size=\"3em\">\n",
    "\n",
    "Идентификаторы героев находятся в диапазоне от `1` до `112`, но некоторые герои в данной выборке матчей не принимали участие. В данной выборке присутствует `108` различных уникальных идентификаторов героев. "
   ]
  },
  {
   "cell_type": "markdown",
   "metadata": {},
   "source": [
    "** 4.Какое получилось качество при добавлении \"мешка слов\" по героям? Улучшилось ли оно по сравнению с предыдущим вариантом? Чем вы можете это объяснить? **"
   ]
  },
  {
   "cell_type": "markdown",
   "metadata": {
    "collapsed": true
   },
   "source": [
    "<font color=\"darkblue\" size=\"3em\">\n",
    "\n",
    "При добавлении к признакам \"мешка слов\" по героям, значение `auc_roc` увеличилось на кросс-валидации до `0.7520` при `C=0.05`. Это значительное улучшение по сравнению с предыдущими результатами.\n",
    "\n",
    "Данное улучшение можно объяснить тем, что, по всей видимости, выбор игроками конкретных героев в данной игре может оказывать существенное влияние на конечный результат игры при прочих равных условиях, наблюдающихся в первые пять минут матча."
   ]
  },
  {
   "cell_type": "markdown",
   "metadata": {},
   "source": [
    "** 5.Какое минимальное и максимальное значение прогноза на тестовой выборке получилось у лучшего из алгоритмов? **"
   ]
  },
  {
   "cell_type": "markdown",
   "metadata": {
    "collapsed": true
   },
   "source": [
    "<font color=\"darkblue\" size=\"3em\">\n",
    "\n",
    "Для лучшего из алгоритмов (`LogisticRegression` с параметром `C=0.05`) значения прогноза `y_pred` на тестовой выборке оказались в диапазоне от `0.0085` до `0.9964`."
   ]
  },
  {
   "cell_type": "code",
   "execution_count": null,
   "metadata": {
    "collapsed": true
   },
   "outputs": [],
   "source": []
  },
  {
   "cell_type": "code",
   "execution_count": null,
   "metadata": {
    "collapsed": true
   },
   "outputs": [],
   "source": []
  }
 ],
 "metadata": {
  "kernelspec": {
   "display_name": "Python 3",
   "language": "python",
   "name": "python3"
  },
  "language_info": {
   "codemirror_mode": {
    "name": "ipython",
    "version": 3
   },
   "file_extension": ".py",
   "mimetype": "text/x-python",
   "name": "python",
   "nbconvert_exporter": "python",
   "pygments_lexer": "ipython3",
   "version": "3.5.1"
  }
 },
 "nbformat": 4,
 "nbformat_minor": 0
}
